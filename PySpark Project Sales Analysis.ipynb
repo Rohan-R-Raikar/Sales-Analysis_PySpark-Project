{
 "cells": [
  {
   "cell_type": "code",
   "execution_count": 0,
   "metadata": {
    "application/vnd.databricks.v1+cell": {
     "cellMetadata": {},
     "inputWidgets": {},
     "nuid": "cd3b2df9-310b-4eee-af98-263963170295",
     "showTitle": false,
     "title": ""
    }
   },
   "outputs": [],
   "source": [
    "/FileStore/tables/sales_csv.txt\n",
    "/FileStore/tables/menu_csv.txt"
   ]
  },
  {
   "cell_type": "code",
   "execution_count": 0,
   "metadata": {
    "application/vnd.databricks.v1+cell": {
     "cellMetadata": {
      "byteLimit": 2048000,
      "rowLimit": 10000
     },
     "inputWidgets": {},
     "nuid": "2b6a8eef-70a0-4bf8-adab-f251d34547d9",
     "showTitle": true,
     "title": "sales dataframe"
    }
   },
   "outputs": [
    {
     "output_type": "display_data",
     "data": {
      "text/html": [
       "<style scoped>\n",
       "  .table-result-container {\n",
       "    max-height: 300px;\n",
       "    overflow: auto;\n",
       "  }\n",
       "  table, th, td {\n",
       "    border: 1px solid black;\n",
       "    border-collapse: collapse;\n",
       "  }\n",
       "  th, td {\n",
       "    padding: 5px;\n",
       "  }\n",
       "  th {\n",
       "    text-align: left;\n",
       "  }\n",
       "</style><div class='table-result-container'><table class='table-result'><thead style='background-color: white'><tr><th>product_id</th><th>customer_id</th><th>order_date</th><th>location</th><th>source_order</th></tr></thead><tbody><tr><td>1</td><td>A</td><td>2023-01-01</td><td>India</td><td>Swiggy</td></tr><tr><td>2</td><td>A</td><td>2022-01-01</td><td>India</td><td>Swiggy</td></tr><tr><td>2</td><td>A</td><td>2023-01-07</td><td>India</td><td>Swiggy</td></tr><tr><td>3</td><td>A</td><td>2023-01-10</td><td>India</td><td>Restaurant</td></tr><tr><td>3</td><td>A</td><td>2022-01-11</td><td>India</td><td>Swiggy</td></tr><tr><td>3</td><td>A</td><td>2023-01-11</td><td>India</td><td>Restaurant</td></tr><tr><td>2</td><td>B</td><td>2022-02-01</td><td>India</td><td>Swiggy</td></tr><tr><td>2</td><td>B</td><td>2023-01-02</td><td>India</td><td>Swiggy</td></tr><tr><td>1</td><td>B</td><td>2023-01-04</td><td>India</td><td>Restaurant</td></tr><tr><td>1</td><td>B</td><td>2023-02-11</td><td>India</td><td>Swiggy</td></tr><tr><td>3</td><td>B</td><td>2023-01-16</td><td>India</td><td>zomato</td></tr><tr><td>3</td><td>B</td><td>2022-02-01</td><td>India</td><td>zomato</td></tr><tr><td>3</td><td>C</td><td>2023-01-01</td><td>India</td><td>zomato</td></tr><tr><td>1</td><td>C</td><td>2023-01-01</td><td>UK</td><td>Swiggy</td></tr><tr><td>6</td><td>C</td><td>2022-01-07</td><td>UK</td><td>zomato</td></tr><tr><td>3</td><td>D</td><td>2023-02-16</td><td>UK</td><td>Restaurant</td></tr><tr><td>5</td><td>D</td><td>2022-02-01</td><td>UK</td><td>zomato</td></tr><tr><td>3</td><td>E</td><td>2023-02-01</td><td>UK</td><td>Restaurant</td></tr><tr><td>4</td><td>E</td><td>2023-02-01</td><td>UK</td><td>Swiggy</td></tr><tr><td>4</td><td>E</td><td>2023-02-07</td><td>UK</td><td>Restaurant</td></tr><tr><td>2</td><td>A</td><td>2022-01-01</td><td>UK</td><td>Swiggy</td></tr><tr><td>2</td><td>A</td><td>2023-01-07</td><td>UK</td><td>Swiggy</td></tr><tr><td>3</td><td>A</td><td>2023-01-10</td><td>UK</td><td>Restaurant</td></tr><tr><td>3</td><td>A</td><td>2022-01-11</td><td>UK</td><td>Swiggy</td></tr><tr><td>3</td><td>A</td><td>2023-01-11</td><td>UK</td><td>zomato</td></tr><tr><td>2</td><td>B</td><td>2022-03-01</td><td>UK</td><td>zomato</td></tr><tr><td>2</td><td>B</td><td>2023-01-02</td><td>UK</td><td>zomato</td></tr><tr><td>1</td><td>B</td><td>2023-01-04</td><td>UK</td><td>Swiggy</td></tr><tr><td>1</td><td>B</td><td>2023-03-11</td><td>UK</td><td>Restaurant</td></tr><tr><td>3</td><td>B</td><td>2023-01-16</td><td>UK</td><td>Swiggy</td></tr><tr><td>3</td><td>B</td><td>2023-03-01</td><td>UK</td><td>Swiggy</td></tr><tr><td>3</td><td>C</td><td>2023-01-01</td><td>UK</td><td>Restaurant</td></tr><tr><td>1</td><td>C</td><td>2023-01-01</td><td>USA</td><td>Swiggy</td></tr><tr><td>6</td><td>C</td><td>2023-01-07</td><td>USA</td><td>zomato</td></tr><tr><td>3</td><td>D</td><td>2022-03-16</td><td>USA</td><td>zomato</td></tr><tr><td>5</td><td>D</td><td>2023-03-01</td><td>USA</td><td>zomato</td></tr><tr><td>3</td><td>E</td><td>2023-03-01</td><td>USA</td><td>Swiggy</td></tr><tr><td>4</td><td>E</td><td>2022-03-01</td><td>USA</td><td>zomato</td></tr><tr><td>4</td><td>E</td><td>2023-03-07</td><td>USA</td><td>zomato</td></tr><tr><td>1</td><td>A</td><td>2023-05-05</td><td>India</td><td>Swiggy</td></tr><tr><td>2</td><td>A</td><td>2022-05-05</td><td>India</td><td>Swiggy</td></tr><tr><td>2</td><td>A</td><td>2023-05-07</td><td>India</td><td>Swiggy</td></tr><tr><td>3</td><td>A</td><td>2023-05-10</td><td>India</td><td>Restaurant</td></tr><tr><td>3</td><td>A</td><td>2022-05-11</td><td>India</td><td>Swiggy</td></tr><tr><td>3</td><td>A</td><td>2023-05-11</td><td>India</td><td>Restaurant</td></tr><tr><td>2</td><td>B</td><td>2022-02-05</td><td>India</td><td>Swiggy</td></tr><tr><td>2</td><td>B</td><td>2023-05-02</td><td>India</td><td>Swiggy</td></tr><tr><td>1</td><td>B</td><td>2023-05-04</td><td>India</td><td>Restaurant</td></tr><tr><td>1</td><td>B</td><td>2023-02-11</td><td>India</td><td>Swiggy</td></tr><tr><td>3</td><td>B</td><td>2023-05-16</td><td>India</td><td>zomato</td></tr><tr><td>3</td><td>B</td><td>2022-02-05</td><td>India</td><td>zomato</td></tr><tr><td>3</td><td>C</td><td>2023-05-05</td><td>India</td><td>zomato</td></tr><tr><td>1</td><td>C</td><td>2023-05-05</td><td>UK</td><td>Swiggy</td></tr><tr><td>6</td><td>C</td><td>2022-05-07</td><td>UK</td><td>zomato</td></tr><tr><td>3</td><td>D</td><td>2023-02-16</td><td>UK</td><td>Restaurant</td></tr><tr><td>5</td><td>D</td><td>2022-02-05</td><td>UK</td><td>zomato</td></tr><tr><td>3</td><td>E</td><td>2023-02-05</td><td>UK</td><td>Restaurant</td></tr><tr><td>4</td><td>E</td><td>2023-02-05</td><td>UK</td><td>Swiggy</td></tr><tr><td>4</td><td>E</td><td>2023-02-07</td><td>UK</td><td>Restaurant</td></tr><tr><td>2</td><td>A</td><td>2022-05-05</td><td>UK</td><td>Swiggy</td></tr><tr><td>2</td><td>A</td><td>2023-05-07</td><td>UK</td><td>Swiggy</td></tr><tr><td>3</td><td>A</td><td>2023-05-10</td><td>UK</td><td>Restaurant</td></tr><tr><td>3</td><td>A</td><td>2022-05-11</td><td>UK</td><td>Swiggy</td></tr><tr><td>3</td><td>A</td><td>2023-05-11</td><td>UK</td><td>zomato</td></tr><tr><td>2</td><td>B</td><td>2022-07-05</td><td>UK</td><td>zomato</td></tr><tr><td>2</td><td>B</td><td>2023-05-02</td><td>UK</td><td>zomato</td></tr><tr><td>1</td><td>B</td><td>2023-05-04</td><td>UK</td><td>Swiggy</td></tr><tr><td>1</td><td>B</td><td>2023-07-11</td><td>UK</td><td>Restaurant</td></tr><tr><td>3</td><td>B</td><td>2023-05-16</td><td>UK</td><td>Swiggy</td></tr><tr><td>3</td><td>B</td><td>2023-07-05</td><td>UK</td><td>Swiggy</td></tr><tr><td>3</td><td>C</td><td>2023-05-05</td><td>UK</td><td>Restaurant</td></tr><tr><td>1</td><td>C</td><td>2023-05-05</td><td>USA</td><td>Swiggy</td></tr><tr><td>6</td><td>C</td><td>2023-05-07</td><td>USA</td><td>zomato</td></tr><tr><td>3</td><td>D</td><td>2022-07-16</td><td>USA</td><td>zomato</td></tr><tr><td>5</td><td>D</td><td>2023-07-05</td><td>USA</td><td>zomato</td></tr><tr><td>3</td><td>E</td><td>2023-07-05</td><td>USA</td><td>Swiggy</td></tr><tr><td>4</td><td>E</td><td>2022-07-05</td><td>USA</td><td>zomato</td></tr><tr><td>4</td><td>E</td><td>2023-07-07</td><td>USA</td><td>zomato</td></tr><tr><td>1</td><td>A</td><td>2023-06-06</td><td>India</td><td>Swiggy</td></tr><tr><td>2</td><td>A</td><td>2022-06-06</td><td>India</td><td>Swiggy</td></tr><tr><td>2</td><td>A</td><td>2023-06-11</td><td>India</td><td>Swiggy</td></tr><tr><td>3</td><td>A</td><td>2023-06-10</td><td>India</td><td>Restaurant</td></tr><tr><td>3</td><td>A</td><td>2022-06-11</td><td>India</td><td>Swiggy</td></tr><tr><td>3</td><td>A</td><td>2023-06-11</td><td>India</td><td>Restaurant</td></tr><tr><td>2</td><td>B</td><td>2022-02-06</td><td>India</td><td>Swiggy</td></tr><tr><td>2</td><td>B</td><td>2023-06-02</td><td>India</td><td>Swiggy</td></tr><tr><td>1</td><td>B</td><td>2023-06-04</td><td>India</td><td>Restaurant</td></tr><tr><td>1</td><td>B</td><td>2023-02-11</td><td>India</td><td>Swiggy</td></tr><tr><td>3</td><td>B</td><td>2023-06-16</td><td>India</td><td>zomato</td></tr><tr><td>3</td><td>B</td><td>2022-02-06</td><td>India</td><td>zomato</td></tr><tr><td>3</td><td>C</td><td>2023-06-06</td><td>India</td><td>zomato</td></tr><tr><td>1</td><td>C</td><td>2023-06-06</td><td>UK</td><td>Swiggy</td></tr><tr><td>6</td><td>C</td><td>2022-06-11</td><td>UK</td><td>zomato</td></tr><tr><td>3</td><td>D</td><td>2023-02-16</td><td>UK</td><td>Restaurant</td></tr><tr><td>5</td><td>D</td><td>2022-02-06</td><td>UK</td><td>zomato</td></tr><tr><td>3</td><td>E</td><td>2023-02-06</td><td>UK</td><td>Restaurant</td></tr><tr><td>4</td><td>E</td><td>2023-02-06</td><td>UK</td><td>Swiggy</td></tr><tr><td>4</td><td>E</td><td>2023-02-11</td><td>UK</td><td>Restaurant</td></tr><tr><td>2</td><td>A</td><td>2022-06-06</td><td>UK</td><td>Swiggy</td></tr><tr><td>2</td><td>A</td><td>2023-06-11</td><td>UK</td><td>Swiggy</td></tr><tr><td>3</td><td>A</td><td>2023-06-10</td><td>UK</td><td>Restaurant</td></tr><tr><td>3</td><td>A</td><td>2022-06-11</td><td>UK</td><td>Swiggy</td></tr><tr><td>3</td><td>A</td><td>2023-06-11</td><td>UK</td><td>zomato</td></tr><tr><td>2</td><td>B</td><td>2022-11-06</td><td>UK</td><td>zomato</td></tr><tr><td>2</td><td>B</td><td>2023-06-02</td><td>UK</td><td>zomato</td></tr><tr><td>1</td><td>B</td><td>2023-06-04</td><td>UK</td><td>Swiggy</td></tr><tr><td>1</td><td>B</td><td>2023-11-11</td><td>UK</td><td>Restaurant</td></tr><tr><td>3</td><td>B</td><td>2023-06-16</td><td>UK</td><td>Swiggy</td></tr><tr><td>3</td><td>B</td><td>2023-11-06</td><td>UK</td><td>Swiggy</td></tr><tr><td>3</td><td>C</td><td>2023-06-06</td><td>UK</td><td>Restaurant</td></tr><tr><td>1</td><td>C</td><td>2023-06-06</td><td>USA</td><td>Swiggy</td></tr><tr><td>6</td><td>C</td><td>2023-06-11</td><td>USA</td><td>zomato</td></tr><tr><td>3</td><td>D</td><td>2022-11-16</td><td>USA</td><td>zomato</td></tr><tr><td>5</td><td>D</td><td>2023-11-06</td><td>USA</td><td>zomato</td></tr><tr><td>3</td><td>E</td><td>2023-11-06</td><td>USA</td><td>Swiggy</td></tr><tr><td>4</td><td>E</td><td>2022-11-06</td><td>USA</td><td>zomato</td></tr><tr><td>4</td><td>E</td><td>2023-11-11</td><td>USA</td><td>zomato</td></tr></tbody></table></div>"
      ]
     },
     "metadata": {
      "application/vnd.databricks.v1+output": {
       "addedWidgets": {},
       "aggData": [],
       "aggError": "",
       "aggOverflow": false,
       "aggSchema": [],
       "aggSeriesLimitReached": false,
       "aggType": "",
       "arguments": {},
       "columnCustomDisplayInfos": {},
       "data": [
        [
         1,
         "A",
         "2023-01-01",
         "India",
         "Swiggy"
        ],
        [
         2,
         "A",
         "2022-01-01",
         "India",
         "Swiggy"
        ],
        [
         2,
         "A",
         "2023-01-07",
         "India",
         "Swiggy"
        ],
        [
         3,
         "A",
         "2023-01-10",
         "India",
         "Restaurant"
        ],
        [
         3,
         "A",
         "2022-01-11",
         "India",
         "Swiggy"
        ],
        [
         3,
         "A",
         "2023-01-11",
         "India",
         "Restaurant"
        ],
        [
         2,
         "B",
         "2022-02-01",
         "India",
         "Swiggy"
        ],
        [
         2,
         "B",
         "2023-01-02",
         "India",
         "Swiggy"
        ],
        [
         1,
         "B",
         "2023-01-04",
         "India",
         "Restaurant"
        ],
        [
         1,
         "B",
         "2023-02-11",
         "India",
         "Swiggy"
        ],
        [
         3,
         "B",
         "2023-01-16",
         "India",
         "zomato"
        ],
        [
         3,
         "B",
         "2022-02-01",
         "India",
         "zomato"
        ],
        [
         3,
         "C",
         "2023-01-01",
         "India",
         "zomato"
        ],
        [
         1,
         "C",
         "2023-01-01",
         "UK",
         "Swiggy"
        ],
        [
         6,
         "C",
         "2022-01-07",
         "UK",
         "zomato"
        ],
        [
         3,
         "D",
         "2023-02-16",
         "UK",
         "Restaurant"
        ],
        [
         5,
         "D",
         "2022-02-01",
         "UK",
         "zomato"
        ],
        [
         3,
         "E",
         "2023-02-01",
         "UK",
         "Restaurant"
        ],
        [
         4,
         "E",
         "2023-02-01",
         "UK",
         "Swiggy"
        ],
        [
         4,
         "E",
         "2023-02-07",
         "UK",
         "Restaurant"
        ],
        [
         2,
         "A",
         "2022-01-01",
         "UK",
         "Swiggy"
        ],
        [
         2,
         "A",
         "2023-01-07",
         "UK",
         "Swiggy"
        ],
        [
         3,
         "A",
         "2023-01-10",
         "UK",
         "Restaurant"
        ],
        [
         3,
         "A",
         "2022-01-11",
         "UK",
         "Swiggy"
        ],
        [
         3,
         "A",
         "2023-01-11",
         "UK",
         "zomato"
        ],
        [
         2,
         "B",
         "2022-03-01",
         "UK",
         "zomato"
        ],
        [
         2,
         "B",
         "2023-01-02",
         "UK",
         "zomato"
        ],
        [
         1,
         "B",
         "2023-01-04",
         "UK",
         "Swiggy"
        ],
        [
         1,
         "B",
         "2023-03-11",
         "UK",
         "Restaurant"
        ],
        [
         3,
         "B",
         "2023-01-16",
         "UK",
         "Swiggy"
        ],
        [
         3,
         "B",
         "2023-03-01",
         "UK",
         "Swiggy"
        ],
        [
         3,
         "C",
         "2023-01-01",
         "UK",
         "Restaurant"
        ],
        [
         1,
         "C",
         "2023-01-01",
         "USA",
         "Swiggy"
        ],
        [
         6,
         "C",
         "2023-01-07",
         "USA",
         "zomato"
        ],
        [
         3,
         "D",
         "2022-03-16",
         "USA",
         "zomato"
        ],
        [
         5,
         "D",
         "2023-03-01",
         "USA",
         "zomato"
        ],
        [
         3,
         "E",
         "2023-03-01",
         "USA",
         "Swiggy"
        ],
        [
         4,
         "E",
         "2022-03-01",
         "USA",
         "zomato"
        ],
        [
         4,
         "E",
         "2023-03-07",
         "USA",
         "zomato"
        ],
        [
         1,
         "A",
         "2023-05-05",
         "India",
         "Swiggy"
        ],
        [
         2,
         "A",
         "2022-05-05",
         "India",
         "Swiggy"
        ],
        [
         2,
         "A",
         "2023-05-07",
         "India",
         "Swiggy"
        ],
        [
         3,
         "A",
         "2023-05-10",
         "India",
         "Restaurant"
        ],
        [
         3,
         "A",
         "2022-05-11",
         "India",
         "Swiggy"
        ],
        [
         3,
         "A",
         "2023-05-11",
         "India",
         "Restaurant"
        ],
        [
         2,
         "B",
         "2022-02-05",
         "India",
         "Swiggy"
        ],
        [
         2,
         "B",
         "2023-05-02",
         "India",
         "Swiggy"
        ],
        [
         1,
         "B",
         "2023-05-04",
         "India",
         "Restaurant"
        ],
        [
         1,
         "B",
         "2023-02-11",
         "India",
         "Swiggy"
        ],
        [
         3,
         "B",
         "2023-05-16",
         "India",
         "zomato"
        ],
        [
         3,
         "B",
         "2022-02-05",
         "India",
         "zomato"
        ],
        [
         3,
         "C",
         "2023-05-05",
         "India",
         "zomato"
        ],
        [
         1,
         "C",
         "2023-05-05",
         "UK",
         "Swiggy"
        ],
        [
         6,
         "C",
         "2022-05-07",
         "UK",
         "zomato"
        ],
        [
         3,
         "D",
         "2023-02-16",
         "UK",
         "Restaurant"
        ],
        [
         5,
         "D",
         "2022-02-05",
         "UK",
         "zomato"
        ],
        [
         3,
         "E",
         "2023-02-05",
         "UK",
         "Restaurant"
        ],
        [
         4,
         "E",
         "2023-02-05",
         "UK",
         "Swiggy"
        ],
        [
         4,
         "E",
         "2023-02-07",
         "UK",
         "Restaurant"
        ],
        [
         2,
         "A",
         "2022-05-05",
         "UK",
         "Swiggy"
        ],
        [
         2,
         "A",
         "2023-05-07",
         "UK",
         "Swiggy"
        ],
        [
         3,
         "A",
         "2023-05-10",
         "UK",
         "Restaurant"
        ],
        [
         3,
         "A",
         "2022-05-11",
         "UK",
         "Swiggy"
        ],
        [
         3,
         "A",
         "2023-05-11",
         "UK",
         "zomato"
        ],
        [
         2,
         "B",
         "2022-07-05",
         "UK",
         "zomato"
        ],
        [
         2,
         "B",
         "2023-05-02",
         "UK",
         "zomato"
        ],
        [
         1,
         "B",
         "2023-05-04",
         "UK",
         "Swiggy"
        ],
        [
         1,
         "B",
         "2023-07-11",
         "UK",
         "Restaurant"
        ],
        [
         3,
         "B",
         "2023-05-16",
         "UK",
         "Swiggy"
        ],
        [
         3,
         "B",
         "2023-07-05",
         "UK",
         "Swiggy"
        ],
        [
         3,
         "C",
         "2023-05-05",
         "UK",
         "Restaurant"
        ],
        [
         1,
         "C",
         "2023-05-05",
         "USA",
         "Swiggy"
        ],
        [
         6,
         "C",
         "2023-05-07",
         "USA",
         "zomato"
        ],
        [
         3,
         "D",
         "2022-07-16",
         "USA",
         "zomato"
        ],
        [
         5,
         "D",
         "2023-07-05",
         "USA",
         "zomato"
        ],
        [
         3,
         "E",
         "2023-07-05",
         "USA",
         "Swiggy"
        ],
        [
         4,
         "E",
         "2022-07-05",
         "USA",
         "zomato"
        ],
        [
         4,
         "E",
         "2023-07-07",
         "USA",
         "zomato"
        ],
        [
         1,
         "A",
         "2023-06-06",
         "India",
         "Swiggy"
        ],
        [
         2,
         "A",
         "2022-06-06",
         "India",
         "Swiggy"
        ],
        [
         2,
         "A",
         "2023-06-11",
         "India",
         "Swiggy"
        ],
        [
         3,
         "A",
         "2023-06-10",
         "India",
         "Restaurant"
        ],
        [
         3,
         "A",
         "2022-06-11",
         "India",
         "Swiggy"
        ],
        [
         3,
         "A",
         "2023-06-11",
         "India",
         "Restaurant"
        ],
        [
         2,
         "B",
         "2022-02-06",
         "India",
         "Swiggy"
        ],
        [
         2,
         "B",
         "2023-06-02",
         "India",
         "Swiggy"
        ],
        [
         1,
         "B",
         "2023-06-04",
         "India",
         "Restaurant"
        ],
        [
         1,
         "B",
         "2023-02-11",
         "India",
         "Swiggy"
        ],
        [
         3,
         "B",
         "2023-06-16",
         "India",
         "zomato"
        ],
        [
         3,
         "B",
         "2022-02-06",
         "India",
         "zomato"
        ],
        [
         3,
         "C",
         "2023-06-06",
         "India",
         "zomato"
        ],
        [
         1,
         "C",
         "2023-06-06",
         "UK",
         "Swiggy"
        ],
        [
         6,
         "C",
         "2022-06-11",
         "UK",
         "zomato"
        ],
        [
         3,
         "D",
         "2023-02-16",
         "UK",
         "Restaurant"
        ],
        [
         5,
         "D",
         "2022-02-06",
         "UK",
         "zomato"
        ],
        [
         3,
         "E",
         "2023-02-06",
         "UK",
         "Restaurant"
        ],
        [
         4,
         "E",
         "2023-02-06",
         "UK",
         "Swiggy"
        ],
        [
         4,
         "E",
         "2023-02-11",
         "UK",
         "Restaurant"
        ],
        [
         2,
         "A",
         "2022-06-06",
         "UK",
         "Swiggy"
        ],
        [
         2,
         "A",
         "2023-06-11",
         "UK",
         "Swiggy"
        ],
        [
         3,
         "A",
         "2023-06-10",
         "UK",
         "Restaurant"
        ],
        [
         3,
         "A",
         "2022-06-11",
         "UK",
         "Swiggy"
        ],
        [
         3,
         "A",
         "2023-06-11",
         "UK",
         "zomato"
        ],
        [
         2,
         "B",
         "2022-11-06",
         "UK",
         "zomato"
        ],
        [
         2,
         "B",
         "2023-06-02",
         "UK",
         "zomato"
        ],
        [
         1,
         "B",
         "2023-06-04",
         "UK",
         "Swiggy"
        ],
        [
         1,
         "B",
         "2023-11-11",
         "UK",
         "Restaurant"
        ],
        [
         3,
         "B",
         "2023-06-16",
         "UK",
         "Swiggy"
        ],
        [
         3,
         "B",
         "2023-11-06",
         "UK",
         "Swiggy"
        ],
        [
         3,
         "C",
         "2023-06-06",
         "UK",
         "Restaurant"
        ],
        [
         1,
         "C",
         "2023-06-06",
         "USA",
         "Swiggy"
        ],
        [
         6,
         "C",
         "2023-06-11",
         "USA",
         "zomato"
        ],
        [
         3,
         "D",
         "2022-11-16",
         "USA",
         "zomato"
        ],
        [
         5,
         "D",
         "2023-11-06",
         "USA",
         "zomato"
        ],
        [
         3,
         "E",
         "2023-11-06",
         "USA",
         "Swiggy"
        ],
        [
         4,
         "E",
         "2022-11-06",
         "USA",
         "zomato"
        ],
        [
         4,
         "E",
         "2023-11-11",
         "USA",
         "zomato"
        ]
       ],
       "datasetInfos": [],
       "dbfsResultPath": null,
       "isJsonSchema": true,
       "metadata": {},
       "overflow": false,
       "plotOptions": {
        "customPlotOptions": {},
        "displayType": "table",
        "pivotAggregation": null,
        "pivotColumns": null,
        "xColumns": null,
        "yColumns": null
       },
       "removedWidgets": [],
       "schema": [
        {
         "metadata": "{}",
         "name": "product_id",
         "type": "\"integer\""
        },
        {
         "metadata": "{}",
         "name": "customer_id",
         "type": "\"string\""
        },
        {
         "metadata": "{}",
         "name": "order_date",
         "type": "\"date\""
        },
        {
         "metadata": "{}",
         "name": "location",
         "type": "\"string\""
        },
        {
         "metadata": "{}",
         "name": "source_order",
         "type": "\"string\""
        }
       ],
       "type": "table"
      }
     },
     "output_type": "display_data"
    }
   ],
   "source": [
    "from pyspark.sql.types import StructType,StructField,IntegerType,StringType,DateType\n",
    "\n",
    "schema = StructType([\n",
    "    StructField(\"product_id\",IntegerType(),True),\n",
    "    StructField(\"customer_id\",StringType(),True),\n",
    "    StructField(\"order_date\",DateType(),True),\n",
    "    StructField(\"location\",StringType(),True),\n",
    "    StructField(\"source_order\",StringType(),True)\n",
    "])\n",
    "\n",
    "sales_df = spark.read.format(\"csv\").option(\"inferschema\",\"true\").schema(schema).load(\"/FileStore/tables/sales_csv.txt\")\n",
    "display(sales_df)"
   ]
  },
  {
   "cell_type": "code",
   "execution_count": 0,
   "metadata": {
    "application/vnd.databricks.v1+cell": {
     "cellMetadata": {
      "byteLimit": 2048000,
      "rowLimit": 10000
     },
     "inputWidgets": {},
     "nuid": "998058c2-9ba3-4855-ba1a-cfc74f379f62",
     "showTitle": true,
     "title": "Deriving year"
    }
   },
   "outputs": [
    {
     "output_type": "display_data",
     "data": {
      "text/html": [
       "<style scoped>\n",
       "  .table-result-container {\n",
       "    max-height: 300px;\n",
       "    overflow: auto;\n",
       "  }\n",
       "  table, th, td {\n",
       "    border: 1px solid black;\n",
       "    border-collapse: collapse;\n",
       "  }\n",
       "  th, td {\n",
       "    padding: 5px;\n",
       "  }\n",
       "  th {\n",
       "    text-align: left;\n",
       "  }\n",
       "</style><div class='table-result-container'><table class='table-result'><thead style='background-color: white'><tr><th>product_id</th><th>customer_id</th><th>order_date</th><th>location</th><th>source_order</th><th>order_year</th></tr></thead><tbody><tr><td>1</td><td>A</td><td>2023-01-01</td><td>India</td><td>Swiggy</td><td>2023</td></tr><tr><td>2</td><td>A</td><td>2022-01-01</td><td>India</td><td>Swiggy</td><td>2022</td></tr><tr><td>2</td><td>A</td><td>2023-01-07</td><td>India</td><td>Swiggy</td><td>2023</td></tr><tr><td>3</td><td>A</td><td>2023-01-10</td><td>India</td><td>Restaurant</td><td>2023</td></tr><tr><td>3</td><td>A</td><td>2022-01-11</td><td>India</td><td>Swiggy</td><td>2022</td></tr><tr><td>3</td><td>A</td><td>2023-01-11</td><td>India</td><td>Restaurant</td><td>2023</td></tr><tr><td>2</td><td>B</td><td>2022-02-01</td><td>India</td><td>Swiggy</td><td>2022</td></tr><tr><td>2</td><td>B</td><td>2023-01-02</td><td>India</td><td>Swiggy</td><td>2023</td></tr><tr><td>1</td><td>B</td><td>2023-01-04</td><td>India</td><td>Restaurant</td><td>2023</td></tr><tr><td>1</td><td>B</td><td>2023-02-11</td><td>India</td><td>Swiggy</td><td>2023</td></tr><tr><td>3</td><td>B</td><td>2023-01-16</td><td>India</td><td>zomato</td><td>2023</td></tr><tr><td>3</td><td>B</td><td>2022-02-01</td><td>India</td><td>zomato</td><td>2022</td></tr><tr><td>3</td><td>C</td><td>2023-01-01</td><td>India</td><td>zomato</td><td>2023</td></tr><tr><td>1</td><td>C</td><td>2023-01-01</td><td>UK</td><td>Swiggy</td><td>2023</td></tr><tr><td>6</td><td>C</td><td>2022-01-07</td><td>UK</td><td>zomato</td><td>2022</td></tr><tr><td>3</td><td>D</td><td>2023-02-16</td><td>UK</td><td>Restaurant</td><td>2023</td></tr><tr><td>5</td><td>D</td><td>2022-02-01</td><td>UK</td><td>zomato</td><td>2022</td></tr><tr><td>3</td><td>E</td><td>2023-02-01</td><td>UK</td><td>Restaurant</td><td>2023</td></tr><tr><td>4</td><td>E</td><td>2023-02-01</td><td>UK</td><td>Swiggy</td><td>2023</td></tr><tr><td>4</td><td>E</td><td>2023-02-07</td><td>UK</td><td>Restaurant</td><td>2023</td></tr><tr><td>2</td><td>A</td><td>2022-01-01</td><td>UK</td><td>Swiggy</td><td>2022</td></tr><tr><td>2</td><td>A</td><td>2023-01-07</td><td>UK</td><td>Swiggy</td><td>2023</td></tr><tr><td>3</td><td>A</td><td>2023-01-10</td><td>UK</td><td>Restaurant</td><td>2023</td></tr><tr><td>3</td><td>A</td><td>2022-01-11</td><td>UK</td><td>Swiggy</td><td>2022</td></tr><tr><td>3</td><td>A</td><td>2023-01-11</td><td>UK</td><td>zomato</td><td>2023</td></tr><tr><td>2</td><td>B</td><td>2022-03-01</td><td>UK</td><td>zomato</td><td>2022</td></tr><tr><td>2</td><td>B</td><td>2023-01-02</td><td>UK</td><td>zomato</td><td>2023</td></tr><tr><td>1</td><td>B</td><td>2023-01-04</td><td>UK</td><td>Swiggy</td><td>2023</td></tr><tr><td>1</td><td>B</td><td>2023-03-11</td><td>UK</td><td>Restaurant</td><td>2023</td></tr><tr><td>3</td><td>B</td><td>2023-01-16</td><td>UK</td><td>Swiggy</td><td>2023</td></tr><tr><td>3</td><td>B</td><td>2023-03-01</td><td>UK</td><td>Swiggy</td><td>2023</td></tr><tr><td>3</td><td>C</td><td>2023-01-01</td><td>UK</td><td>Restaurant</td><td>2023</td></tr><tr><td>1</td><td>C</td><td>2023-01-01</td><td>USA</td><td>Swiggy</td><td>2023</td></tr><tr><td>6</td><td>C</td><td>2023-01-07</td><td>USA</td><td>zomato</td><td>2023</td></tr><tr><td>3</td><td>D</td><td>2022-03-16</td><td>USA</td><td>zomato</td><td>2022</td></tr><tr><td>5</td><td>D</td><td>2023-03-01</td><td>USA</td><td>zomato</td><td>2023</td></tr><tr><td>3</td><td>E</td><td>2023-03-01</td><td>USA</td><td>Swiggy</td><td>2023</td></tr><tr><td>4</td><td>E</td><td>2022-03-01</td><td>USA</td><td>zomato</td><td>2022</td></tr><tr><td>4</td><td>E</td><td>2023-03-07</td><td>USA</td><td>zomato</td><td>2023</td></tr><tr><td>1</td><td>A</td><td>2023-05-05</td><td>India</td><td>Swiggy</td><td>2023</td></tr><tr><td>2</td><td>A</td><td>2022-05-05</td><td>India</td><td>Swiggy</td><td>2022</td></tr><tr><td>2</td><td>A</td><td>2023-05-07</td><td>India</td><td>Swiggy</td><td>2023</td></tr><tr><td>3</td><td>A</td><td>2023-05-10</td><td>India</td><td>Restaurant</td><td>2023</td></tr><tr><td>3</td><td>A</td><td>2022-05-11</td><td>India</td><td>Swiggy</td><td>2022</td></tr><tr><td>3</td><td>A</td><td>2023-05-11</td><td>India</td><td>Restaurant</td><td>2023</td></tr><tr><td>2</td><td>B</td><td>2022-02-05</td><td>India</td><td>Swiggy</td><td>2022</td></tr><tr><td>2</td><td>B</td><td>2023-05-02</td><td>India</td><td>Swiggy</td><td>2023</td></tr><tr><td>1</td><td>B</td><td>2023-05-04</td><td>India</td><td>Restaurant</td><td>2023</td></tr><tr><td>1</td><td>B</td><td>2023-02-11</td><td>India</td><td>Swiggy</td><td>2023</td></tr><tr><td>3</td><td>B</td><td>2023-05-16</td><td>India</td><td>zomato</td><td>2023</td></tr><tr><td>3</td><td>B</td><td>2022-02-05</td><td>India</td><td>zomato</td><td>2022</td></tr><tr><td>3</td><td>C</td><td>2023-05-05</td><td>India</td><td>zomato</td><td>2023</td></tr><tr><td>1</td><td>C</td><td>2023-05-05</td><td>UK</td><td>Swiggy</td><td>2023</td></tr><tr><td>6</td><td>C</td><td>2022-05-07</td><td>UK</td><td>zomato</td><td>2022</td></tr><tr><td>3</td><td>D</td><td>2023-02-16</td><td>UK</td><td>Restaurant</td><td>2023</td></tr><tr><td>5</td><td>D</td><td>2022-02-05</td><td>UK</td><td>zomato</td><td>2022</td></tr><tr><td>3</td><td>E</td><td>2023-02-05</td><td>UK</td><td>Restaurant</td><td>2023</td></tr><tr><td>4</td><td>E</td><td>2023-02-05</td><td>UK</td><td>Swiggy</td><td>2023</td></tr><tr><td>4</td><td>E</td><td>2023-02-07</td><td>UK</td><td>Restaurant</td><td>2023</td></tr><tr><td>2</td><td>A</td><td>2022-05-05</td><td>UK</td><td>Swiggy</td><td>2022</td></tr><tr><td>2</td><td>A</td><td>2023-05-07</td><td>UK</td><td>Swiggy</td><td>2023</td></tr><tr><td>3</td><td>A</td><td>2023-05-10</td><td>UK</td><td>Restaurant</td><td>2023</td></tr><tr><td>3</td><td>A</td><td>2022-05-11</td><td>UK</td><td>Swiggy</td><td>2022</td></tr><tr><td>3</td><td>A</td><td>2023-05-11</td><td>UK</td><td>zomato</td><td>2023</td></tr><tr><td>2</td><td>B</td><td>2022-07-05</td><td>UK</td><td>zomato</td><td>2022</td></tr><tr><td>2</td><td>B</td><td>2023-05-02</td><td>UK</td><td>zomato</td><td>2023</td></tr><tr><td>1</td><td>B</td><td>2023-05-04</td><td>UK</td><td>Swiggy</td><td>2023</td></tr><tr><td>1</td><td>B</td><td>2023-07-11</td><td>UK</td><td>Restaurant</td><td>2023</td></tr><tr><td>3</td><td>B</td><td>2023-05-16</td><td>UK</td><td>Swiggy</td><td>2023</td></tr><tr><td>3</td><td>B</td><td>2023-07-05</td><td>UK</td><td>Swiggy</td><td>2023</td></tr><tr><td>3</td><td>C</td><td>2023-05-05</td><td>UK</td><td>Restaurant</td><td>2023</td></tr><tr><td>1</td><td>C</td><td>2023-05-05</td><td>USA</td><td>Swiggy</td><td>2023</td></tr><tr><td>6</td><td>C</td><td>2023-05-07</td><td>USA</td><td>zomato</td><td>2023</td></tr><tr><td>3</td><td>D</td><td>2022-07-16</td><td>USA</td><td>zomato</td><td>2022</td></tr><tr><td>5</td><td>D</td><td>2023-07-05</td><td>USA</td><td>zomato</td><td>2023</td></tr><tr><td>3</td><td>E</td><td>2023-07-05</td><td>USA</td><td>Swiggy</td><td>2023</td></tr><tr><td>4</td><td>E</td><td>2022-07-05</td><td>USA</td><td>zomato</td><td>2022</td></tr><tr><td>4</td><td>E</td><td>2023-07-07</td><td>USA</td><td>zomato</td><td>2023</td></tr><tr><td>1</td><td>A</td><td>2023-06-06</td><td>India</td><td>Swiggy</td><td>2023</td></tr><tr><td>2</td><td>A</td><td>2022-06-06</td><td>India</td><td>Swiggy</td><td>2022</td></tr><tr><td>2</td><td>A</td><td>2023-06-11</td><td>India</td><td>Swiggy</td><td>2023</td></tr><tr><td>3</td><td>A</td><td>2023-06-10</td><td>India</td><td>Restaurant</td><td>2023</td></tr><tr><td>3</td><td>A</td><td>2022-06-11</td><td>India</td><td>Swiggy</td><td>2022</td></tr><tr><td>3</td><td>A</td><td>2023-06-11</td><td>India</td><td>Restaurant</td><td>2023</td></tr><tr><td>2</td><td>B</td><td>2022-02-06</td><td>India</td><td>Swiggy</td><td>2022</td></tr><tr><td>2</td><td>B</td><td>2023-06-02</td><td>India</td><td>Swiggy</td><td>2023</td></tr><tr><td>1</td><td>B</td><td>2023-06-04</td><td>India</td><td>Restaurant</td><td>2023</td></tr><tr><td>1</td><td>B</td><td>2023-02-11</td><td>India</td><td>Swiggy</td><td>2023</td></tr><tr><td>3</td><td>B</td><td>2023-06-16</td><td>India</td><td>zomato</td><td>2023</td></tr><tr><td>3</td><td>B</td><td>2022-02-06</td><td>India</td><td>zomato</td><td>2022</td></tr><tr><td>3</td><td>C</td><td>2023-06-06</td><td>India</td><td>zomato</td><td>2023</td></tr><tr><td>1</td><td>C</td><td>2023-06-06</td><td>UK</td><td>Swiggy</td><td>2023</td></tr><tr><td>6</td><td>C</td><td>2022-06-11</td><td>UK</td><td>zomato</td><td>2022</td></tr><tr><td>3</td><td>D</td><td>2023-02-16</td><td>UK</td><td>Restaurant</td><td>2023</td></tr><tr><td>5</td><td>D</td><td>2022-02-06</td><td>UK</td><td>zomato</td><td>2022</td></tr><tr><td>3</td><td>E</td><td>2023-02-06</td><td>UK</td><td>Restaurant</td><td>2023</td></tr><tr><td>4</td><td>E</td><td>2023-02-06</td><td>UK</td><td>Swiggy</td><td>2023</td></tr><tr><td>4</td><td>E</td><td>2023-02-11</td><td>UK</td><td>Restaurant</td><td>2023</td></tr><tr><td>2</td><td>A</td><td>2022-06-06</td><td>UK</td><td>Swiggy</td><td>2022</td></tr><tr><td>2</td><td>A</td><td>2023-06-11</td><td>UK</td><td>Swiggy</td><td>2023</td></tr><tr><td>3</td><td>A</td><td>2023-06-10</td><td>UK</td><td>Restaurant</td><td>2023</td></tr><tr><td>3</td><td>A</td><td>2022-06-11</td><td>UK</td><td>Swiggy</td><td>2022</td></tr><tr><td>3</td><td>A</td><td>2023-06-11</td><td>UK</td><td>zomato</td><td>2023</td></tr><tr><td>2</td><td>B</td><td>2022-11-06</td><td>UK</td><td>zomato</td><td>2022</td></tr><tr><td>2</td><td>B</td><td>2023-06-02</td><td>UK</td><td>zomato</td><td>2023</td></tr><tr><td>1</td><td>B</td><td>2023-06-04</td><td>UK</td><td>Swiggy</td><td>2023</td></tr><tr><td>1</td><td>B</td><td>2023-11-11</td><td>UK</td><td>Restaurant</td><td>2023</td></tr><tr><td>3</td><td>B</td><td>2023-06-16</td><td>UK</td><td>Swiggy</td><td>2023</td></tr><tr><td>3</td><td>B</td><td>2023-11-06</td><td>UK</td><td>Swiggy</td><td>2023</td></tr><tr><td>3</td><td>C</td><td>2023-06-06</td><td>UK</td><td>Restaurant</td><td>2023</td></tr><tr><td>1</td><td>C</td><td>2023-06-06</td><td>USA</td><td>Swiggy</td><td>2023</td></tr><tr><td>6</td><td>C</td><td>2023-06-11</td><td>USA</td><td>zomato</td><td>2023</td></tr><tr><td>3</td><td>D</td><td>2022-11-16</td><td>USA</td><td>zomato</td><td>2022</td></tr><tr><td>5</td><td>D</td><td>2023-11-06</td><td>USA</td><td>zomato</td><td>2023</td></tr><tr><td>3</td><td>E</td><td>2023-11-06</td><td>USA</td><td>Swiggy</td><td>2023</td></tr><tr><td>4</td><td>E</td><td>2022-11-06</td><td>USA</td><td>zomato</td><td>2022</td></tr><tr><td>4</td><td>E</td><td>2023-11-11</td><td>USA</td><td>zomato</td><td>2023</td></tr></tbody></table></div>"
      ]
     },
     "metadata": {
      "application/vnd.databricks.v1+output": {
       "addedWidgets": {},
       "aggData": [],
       "aggError": "",
       "aggOverflow": false,
       "aggSchema": [],
       "aggSeriesLimitReached": false,
       "aggType": "",
       "arguments": {},
       "columnCustomDisplayInfos": {},
       "data": [
        [
         1,
         "A",
         "2023-01-01",
         "India",
         "Swiggy",
         2023
        ],
        [
         2,
         "A",
         "2022-01-01",
         "India",
         "Swiggy",
         2022
        ],
        [
         2,
         "A",
         "2023-01-07",
         "India",
         "Swiggy",
         2023
        ],
        [
         3,
         "A",
         "2023-01-10",
         "India",
         "Restaurant",
         2023
        ],
        [
         3,
         "A",
         "2022-01-11",
         "India",
         "Swiggy",
         2022
        ],
        [
         3,
         "A",
         "2023-01-11",
         "India",
         "Restaurant",
         2023
        ],
        [
         2,
         "B",
         "2022-02-01",
         "India",
         "Swiggy",
         2022
        ],
        [
         2,
         "B",
         "2023-01-02",
         "India",
         "Swiggy",
         2023
        ],
        [
         1,
         "B",
         "2023-01-04",
         "India",
         "Restaurant",
         2023
        ],
        [
         1,
         "B",
         "2023-02-11",
         "India",
         "Swiggy",
         2023
        ],
        [
         3,
         "B",
         "2023-01-16",
         "India",
         "zomato",
         2023
        ],
        [
         3,
         "B",
         "2022-02-01",
         "India",
         "zomato",
         2022
        ],
        [
         3,
         "C",
         "2023-01-01",
         "India",
         "zomato",
         2023
        ],
        [
         1,
         "C",
         "2023-01-01",
         "UK",
         "Swiggy",
         2023
        ],
        [
         6,
         "C",
         "2022-01-07",
         "UK",
         "zomato",
         2022
        ],
        [
         3,
         "D",
         "2023-02-16",
         "UK",
         "Restaurant",
         2023
        ],
        [
         5,
         "D",
         "2022-02-01",
         "UK",
         "zomato",
         2022
        ],
        [
         3,
         "E",
         "2023-02-01",
         "UK",
         "Restaurant",
         2023
        ],
        [
         4,
         "E",
         "2023-02-01",
         "UK",
         "Swiggy",
         2023
        ],
        [
         4,
         "E",
         "2023-02-07",
         "UK",
         "Restaurant",
         2023
        ],
        [
         2,
         "A",
         "2022-01-01",
         "UK",
         "Swiggy",
         2022
        ],
        [
         2,
         "A",
         "2023-01-07",
         "UK",
         "Swiggy",
         2023
        ],
        [
         3,
         "A",
         "2023-01-10",
         "UK",
         "Restaurant",
         2023
        ],
        [
         3,
         "A",
         "2022-01-11",
         "UK",
         "Swiggy",
         2022
        ],
        [
         3,
         "A",
         "2023-01-11",
         "UK",
         "zomato",
         2023
        ],
        [
         2,
         "B",
         "2022-03-01",
         "UK",
         "zomato",
         2022
        ],
        [
         2,
         "B",
         "2023-01-02",
         "UK",
         "zomato",
         2023
        ],
        [
         1,
         "B",
         "2023-01-04",
         "UK",
         "Swiggy",
         2023
        ],
        [
         1,
         "B",
         "2023-03-11",
         "UK",
         "Restaurant",
         2023
        ],
        [
         3,
         "B",
         "2023-01-16",
         "UK",
         "Swiggy",
         2023
        ],
        [
         3,
         "B",
         "2023-03-01",
         "UK",
         "Swiggy",
         2023
        ],
        [
         3,
         "C",
         "2023-01-01",
         "UK",
         "Restaurant",
         2023
        ],
        [
         1,
         "C",
         "2023-01-01",
         "USA",
         "Swiggy",
         2023
        ],
        [
         6,
         "C",
         "2023-01-07",
         "USA",
         "zomato",
         2023
        ],
        [
         3,
         "D",
         "2022-03-16",
         "USA",
         "zomato",
         2022
        ],
        [
         5,
         "D",
         "2023-03-01",
         "USA",
         "zomato",
         2023
        ],
        [
         3,
         "E",
         "2023-03-01",
         "USA",
         "Swiggy",
         2023
        ],
        [
         4,
         "E",
         "2022-03-01",
         "USA",
         "zomato",
         2022
        ],
        [
         4,
         "E",
         "2023-03-07",
         "USA",
         "zomato",
         2023
        ],
        [
         1,
         "A",
         "2023-05-05",
         "India",
         "Swiggy",
         2023
        ],
        [
         2,
         "A",
         "2022-05-05",
         "India",
         "Swiggy",
         2022
        ],
        [
         2,
         "A",
         "2023-05-07",
         "India",
         "Swiggy",
         2023
        ],
        [
         3,
         "A",
         "2023-05-10",
         "India",
         "Restaurant",
         2023
        ],
        [
         3,
         "A",
         "2022-05-11",
         "India",
         "Swiggy",
         2022
        ],
        [
         3,
         "A",
         "2023-05-11",
         "India",
         "Restaurant",
         2023
        ],
        [
         2,
         "B",
         "2022-02-05",
         "India",
         "Swiggy",
         2022
        ],
        [
         2,
         "B",
         "2023-05-02",
         "India",
         "Swiggy",
         2023
        ],
        [
         1,
         "B",
         "2023-05-04",
         "India",
         "Restaurant",
         2023
        ],
        [
         1,
         "B",
         "2023-02-11",
         "India",
         "Swiggy",
         2023
        ],
        [
         3,
         "B",
         "2023-05-16",
         "India",
         "zomato",
         2023
        ],
        [
         3,
         "B",
         "2022-02-05",
         "India",
         "zomato",
         2022
        ],
        [
         3,
         "C",
         "2023-05-05",
         "India",
         "zomato",
         2023
        ],
        [
         1,
         "C",
         "2023-05-05",
         "UK",
         "Swiggy",
         2023
        ],
        [
         6,
         "C",
         "2022-05-07",
         "UK",
         "zomato",
         2022
        ],
        [
         3,
         "D",
         "2023-02-16",
         "UK",
         "Restaurant",
         2023
        ],
        [
         5,
         "D",
         "2022-02-05",
         "UK",
         "zomato",
         2022
        ],
        [
         3,
         "E",
         "2023-02-05",
         "UK",
         "Restaurant",
         2023
        ],
        [
         4,
         "E",
         "2023-02-05",
         "UK",
         "Swiggy",
         2023
        ],
        [
         4,
         "E",
         "2023-02-07",
         "UK",
         "Restaurant",
         2023
        ],
        [
         2,
         "A",
         "2022-05-05",
         "UK",
         "Swiggy",
         2022
        ],
        [
         2,
         "A",
         "2023-05-07",
         "UK",
         "Swiggy",
         2023
        ],
        [
         3,
         "A",
         "2023-05-10",
         "UK",
         "Restaurant",
         2023
        ],
        [
         3,
         "A",
         "2022-05-11",
         "UK",
         "Swiggy",
         2022
        ],
        [
         3,
         "A",
         "2023-05-11",
         "UK",
         "zomato",
         2023
        ],
        [
         2,
         "B",
         "2022-07-05",
         "UK",
         "zomato",
         2022
        ],
        [
         2,
         "B",
         "2023-05-02",
         "UK",
         "zomato",
         2023
        ],
        [
         1,
         "B",
         "2023-05-04",
         "UK",
         "Swiggy",
         2023
        ],
        [
         1,
         "B",
         "2023-07-11",
         "UK",
         "Restaurant",
         2023
        ],
        [
         3,
         "B",
         "2023-05-16",
         "UK",
         "Swiggy",
         2023
        ],
        [
         3,
         "B",
         "2023-07-05",
         "UK",
         "Swiggy",
         2023
        ],
        [
         3,
         "C",
         "2023-05-05",
         "UK",
         "Restaurant",
         2023
        ],
        [
         1,
         "C",
         "2023-05-05",
         "USA",
         "Swiggy",
         2023
        ],
        [
         6,
         "C",
         "2023-05-07",
         "USA",
         "zomato",
         2023
        ],
        [
         3,
         "D",
         "2022-07-16",
         "USA",
         "zomato",
         2022
        ],
        [
         5,
         "D",
         "2023-07-05",
         "USA",
         "zomato",
         2023
        ],
        [
         3,
         "E",
         "2023-07-05",
         "USA",
         "Swiggy",
         2023
        ],
        [
         4,
         "E",
         "2022-07-05",
         "USA",
         "zomato",
         2022
        ],
        [
         4,
         "E",
         "2023-07-07",
         "USA",
         "zomato",
         2023
        ],
        [
         1,
         "A",
         "2023-06-06",
         "India",
         "Swiggy",
         2023
        ],
        [
         2,
         "A",
         "2022-06-06",
         "India",
         "Swiggy",
         2022
        ],
        [
         2,
         "A",
         "2023-06-11",
         "India",
         "Swiggy",
         2023
        ],
        [
         3,
         "A",
         "2023-06-10",
         "India",
         "Restaurant",
         2023
        ],
        [
         3,
         "A",
         "2022-06-11",
         "India",
         "Swiggy",
         2022
        ],
        [
         3,
         "A",
         "2023-06-11",
         "India",
         "Restaurant",
         2023
        ],
        [
         2,
         "B",
         "2022-02-06",
         "India",
         "Swiggy",
         2022
        ],
        [
         2,
         "B",
         "2023-06-02",
         "India",
         "Swiggy",
         2023
        ],
        [
         1,
         "B",
         "2023-06-04",
         "India",
         "Restaurant",
         2023
        ],
        [
         1,
         "B",
         "2023-02-11",
         "India",
         "Swiggy",
         2023
        ],
        [
         3,
         "B",
         "2023-06-16",
         "India",
         "zomato",
         2023
        ],
        [
         3,
         "B",
         "2022-02-06",
         "India",
         "zomato",
         2022
        ],
        [
         3,
         "C",
         "2023-06-06",
         "India",
         "zomato",
         2023
        ],
        [
         1,
         "C",
         "2023-06-06",
         "UK",
         "Swiggy",
         2023
        ],
        [
         6,
         "C",
         "2022-06-11",
         "UK",
         "zomato",
         2022
        ],
        [
         3,
         "D",
         "2023-02-16",
         "UK",
         "Restaurant",
         2023
        ],
        [
         5,
         "D",
         "2022-02-06",
         "UK",
         "zomato",
         2022
        ],
        [
         3,
         "E",
         "2023-02-06",
         "UK",
         "Restaurant",
         2023
        ],
        [
         4,
         "E",
         "2023-02-06",
         "UK",
         "Swiggy",
         2023
        ],
        [
         4,
         "E",
         "2023-02-11",
         "UK",
         "Restaurant",
         2023
        ],
        [
         2,
         "A",
         "2022-06-06",
         "UK",
         "Swiggy",
         2022
        ],
        [
         2,
         "A",
         "2023-06-11",
         "UK",
         "Swiggy",
         2023
        ],
        [
         3,
         "A",
         "2023-06-10",
         "UK",
         "Restaurant",
         2023
        ],
        [
         3,
         "A",
         "2022-06-11",
         "UK",
         "Swiggy",
         2022
        ],
        [
         3,
         "A",
         "2023-06-11",
         "UK",
         "zomato",
         2023
        ],
        [
         2,
         "B",
         "2022-11-06",
         "UK",
         "zomato",
         2022
        ],
        [
         2,
         "B",
         "2023-06-02",
         "UK",
         "zomato",
         2023
        ],
        [
         1,
         "B",
         "2023-06-04",
         "UK",
         "Swiggy",
         2023
        ],
        [
         1,
         "B",
         "2023-11-11",
         "UK",
         "Restaurant",
         2023
        ],
        [
         3,
         "B",
         "2023-06-16",
         "UK",
         "Swiggy",
         2023
        ],
        [
         3,
         "B",
         "2023-11-06",
         "UK",
         "Swiggy",
         2023
        ],
        [
         3,
         "C",
         "2023-06-06",
         "UK",
         "Restaurant",
         2023
        ],
        [
         1,
         "C",
         "2023-06-06",
         "USA",
         "Swiggy",
         2023
        ],
        [
         6,
         "C",
         "2023-06-11",
         "USA",
         "zomato",
         2023
        ],
        [
         3,
         "D",
         "2022-11-16",
         "USA",
         "zomato",
         2022
        ],
        [
         5,
         "D",
         "2023-11-06",
         "USA",
         "zomato",
         2023
        ],
        [
         3,
         "E",
         "2023-11-06",
         "USA",
         "Swiggy",
         2023
        ],
        [
         4,
         "E",
         "2022-11-06",
         "USA",
         "zomato",
         2022
        ],
        [
         4,
         "E",
         "2023-11-11",
         "USA",
         "zomato",
         2023
        ]
       ],
       "datasetInfos": [],
       "dbfsResultPath": null,
       "isJsonSchema": true,
       "metadata": {},
       "overflow": false,
       "plotOptions": {
        "customPlotOptions": {},
        "displayType": "table",
        "pivotAggregation": null,
        "pivotColumns": null,
        "xColumns": null,
        "yColumns": null
       },
       "removedWidgets": [],
       "schema": [
        {
         "metadata": "{}",
         "name": "product_id",
         "type": "\"integer\""
        },
        {
         "metadata": "{}",
         "name": "customer_id",
         "type": "\"string\""
        },
        {
         "metadata": "{}",
         "name": "order_date",
         "type": "\"date\""
        },
        {
         "metadata": "{}",
         "name": "location",
         "type": "\"string\""
        },
        {
         "metadata": "{}",
         "name": "source_order",
         "type": "\"string\""
        },
        {
         "metadata": "{}",
         "name": "order_year",
         "type": "\"integer\""
        }
       ],
       "type": "table"
      }
     },
     "output_type": "display_data"
    }
   ],
   "source": [
    "from pyspark.sql.functions import month, year, quarter\n",
    "\n",
    "sales_df = sales_df.withColumn(\"order_year\",year(sales_df.order_date))\n",
    "\n",
    "display(sales_df)"
   ]
  },
  {
   "cell_type": "code",
   "execution_count": 0,
   "metadata": {
    "application/vnd.databricks.v1+cell": {
     "cellMetadata": {
      "byteLimit": 2048000,
      "rowLimit": 10000
     },
     "inputWidgets": {},
     "nuid": "af19a20a-78a2-4c6d-9125-b7bea509216a",
     "showTitle": true,
     "title": "Deriving month, quarter"
    }
   },
   "outputs": [
    {
     "output_type": "display_data",
     "data": {
      "text/html": [
       "<style scoped>\n",
       "  .table-result-container {\n",
       "    max-height: 300px;\n",
       "    overflow: auto;\n",
       "  }\n",
       "  table, th, td {\n",
       "    border: 1px solid black;\n",
       "    border-collapse: collapse;\n",
       "  }\n",
       "  th, td {\n",
       "    padding: 5px;\n",
       "  }\n",
       "  th {\n",
       "    text-align: left;\n",
       "  }\n",
       "</style><div class='table-result-container'><table class='table-result'><thead style='background-color: white'><tr><th>product_id</th><th>customer_id</th><th>order_date</th><th>location</th><th>source_order</th><th>order_year</th><th>order_month</th><th>order_quarter</th></tr></thead><tbody><tr><td>1</td><td>A</td><td>2023-01-01</td><td>India</td><td>Swiggy</td><td>2023</td><td>1</td><td>1</td></tr><tr><td>2</td><td>A</td><td>2022-01-01</td><td>India</td><td>Swiggy</td><td>2022</td><td>1</td><td>1</td></tr><tr><td>2</td><td>A</td><td>2023-01-07</td><td>India</td><td>Swiggy</td><td>2023</td><td>1</td><td>1</td></tr><tr><td>3</td><td>A</td><td>2023-01-10</td><td>India</td><td>Restaurant</td><td>2023</td><td>1</td><td>1</td></tr><tr><td>3</td><td>A</td><td>2022-01-11</td><td>India</td><td>Swiggy</td><td>2022</td><td>1</td><td>1</td></tr><tr><td>3</td><td>A</td><td>2023-01-11</td><td>India</td><td>Restaurant</td><td>2023</td><td>1</td><td>1</td></tr><tr><td>2</td><td>B</td><td>2022-02-01</td><td>India</td><td>Swiggy</td><td>2022</td><td>2</td><td>1</td></tr><tr><td>2</td><td>B</td><td>2023-01-02</td><td>India</td><td>Swiggy</td><td>2023</td><td>1</td><td>1</td></tr><tr><td>1</td><td>B</td><td>2023-01-04</td><td>India</td><td>Restaurant</td><td>2023</td><td>1</td><td>1</td></tr><tr><td>1</td><td>B</td><td>2023-02-11</td><td>India</td><td>Swiggy</td><td>2023</td><td>2</td><td>1</td></tr><tr><td>3</td><td>B</td><td>2023-01-16</td><td>India</td><td>zomato</td><td>2023</td><td>1</td><td>1</td></tr><tr><td>3</td><td>B</td><td>2022-02-01</td><td>India</td><td>zomato</td><td>2022</td><td>2</td><td>1</td></tr><tr><td>3</td><td>C</td><td>2023-01-01</td><td>India</td><td>zomato</td><td>2023</td><td>1</td><td>1</td></tr><tr><td>1</td><td>C</td><td>2023-01-01</td><td>UK</td><td>Swiggy</td><td>2023</td><td>1</td><td>1</td></tr><tr><td>6</td><td>C</td><td>2022-01-07</td><td>UK</td><td>zomato</td><td>2022</td><td>1</td><td>1</td></tr><tr><td>3</td><td>D</td><td>2023-02-16</td><td>UK</td><td>Restaurant</td><td>2023</td><td>2</td><td>1</td></tr><tr><td>5</td><td>D</td><td>2022-02-01</td><td>UK</td><td>zomato</td><td>2022</td><td>2</td><td>1</td></tr><tr><td>3</td><td>E</td><td>2023-02-01</td><td>UK</td><td>Restaurant</td><td>2023</td><td>2</td><td>1</td></tr><tr><td>4</td><td>E</td><td>2023-02-01</td><td>UK</td><td>Swiggy</td><td>2023</td><td>2</td><td>1</td></tr><tr><td>4</td><td>E</td><td>2023-02-07</td><td>UK</td><td>Restaurant</td><td>2023</td><td>2</td><td>1</td></tr><tr><td>2</td><td>A</td><td>2022-01-01</td><td>UK</td><td>Swiggy</td><td>2022</td><td>1</td><td>1</td></tr><tr><td>2</td><td>A</td><td>2023-01-07</td><td>UK</td><td>Swiggy</td><td>2023</td><td>1</td><td>1</td></tr><tr><td>3</td><td>A</td><td>2023-01-10</td><td>UK</td><td>Restaurant</td><td>2023</td><td>1</td><td>1</td></tr><tr><td>3</td><td>A</td><td>2022-01-11</td><td>UK</td><td>Swiggy</td><td>2022</td><td>1</td><td>1</td></tr><tr><td>3</td><td>A</td><td>2023-01-11</td><td>UK</td><td>zomato</td><td>2023</td><td>1</td><td>1</td></tr><tr><td>2</td><td>B</td><td>2022-03-01</td><td>UK</td><td>zomato</td><td>2022</td><td>3</td><td>1</td></tr><tr><td>2</td><td>B</td><td>2023-01-02</td><td>UK</td><td>zomato</td><td>2023</td><td>1</td><td>1</td></tr><tr><td>1</td><td>B</td><td>2023-01-04</td><td>UK</td><td>Swiggy</td><td>2023</td><td>1</td><td>1</td></tr><tr><td>1</td><td>B</td><td>2023-03-11</td><td>UK</td><td>Restaurant</td><td>2023</td><td>3</td><td>1</td></tr><tr><td>3</td><td>B</td><td>2023-01-16</td><td>UK</td><td>Swiggy</td><td>2023</td><td>1</td><td>1</td></tr><tr><td>3</td><td>B</td><td>2023-03-01</td><td>UK</td><td>Swiggy</td><td>2023</td><td>3</td><td>1</td></tr><tr><td>3</td><td>C</td><td>2023-01-01</td><td>UK</td><td>Restaurant</td><td>2023</td><td>1</td><td>1</td></tr><tr><td>1</td><td>C</td><td>2023-01-01</td><td>USA</td><td>Swiggy</td><td>2023</td><td>1</td><td>1</td></tr><tr><td>6</td><td>C</td><td>2023-01-07</td><td>USA</td><td>zomato</td><td>2023</td><td>1</td><td>1</td></tr><tr><td>3</td><td>D</td><td>2022-03-16</td><td>USA</td><td>zomato</td><td>2022</td><td>3</td><td>1</td></tr><tr><td>5</td><td>D</td><td>2023-03-01</td><td>USA</td><td>zomato</td><td>2023</td><td>3</td><td>1</td></tr><tr><td>3</td><td>E</td><td>2023-03-01</td><td>USA</td><td>Swiggy</td><td>2023</td><td>3</td><td>1</td></tr><tr><td>4</td><td>E</td><td>2022-03-01</td><td>USA</td><td>zomato</td><td>2022</td><td>3</td><td>1</td></tr><tr><td>4</td><td>E</td><td>2023-03-07</td><td>USA</td><td>zomato</td><td>2023</td><td>3</td><td>1</td></tr><tr><td>1</td><td>A</td><td>2023-05-05</td><td>India</td><td>Swiggy</td><td>2023</td><td>5</td><td>2</td></tr><tr><td>2</td><td>A</td><td>2022-05-05</td><td>India</td><td>Swiggy</td><td>2022</td><td>5</td><td>2</td></tr><tr><td>2</td><td>A</td><td>2023-05-07</td><td>India</td><td>Swiggy</td><td>2023</td><td>5</td><td>2</td></tr><tr><td>3</td><td>A</td><td>2023-05-10</td><td>India</td><td>Restaurant</td><td>2023</td><td>5</td><td>2</td></tr><tr><td>3</td><td>A</td><td>2022-05-11</td><td>India</td><td>Swiggy</td><td>2022</td><td>5</td><td>2</td></tr><tr><td>3</td><td>A</td><td>2023-05-11</td><td>India</td><td>Restaurant</td><td>2023</td><td>5</td><td>2</td></tr><tr><td>2</td><td>B</td><td>2022-02-05</td><td>India</td><td>Swiggy</td><td>2022</td><td>2</td><td>1</td></tr><tr><td>2</td><td>B</td><td>2023-05-02</td><td>India</td><td>Swiggy</td><td>2023</td><td>5</td><td>2</td></tr><tr><td>1</td><td>B</td><td>2023-05-04</td><td>India</td><td>Restaurant</td><td>2023</td><td>5</td><td>2</td></tr><tr><td>1</td><td>B</td><td>2023-02-11</td><td>India</td><td>Swiggy</td><td>2023</td><td>2</td><td>1</td></tr><tr><td>3</td><td>B</td><td>2023-05-16</td><td>India</td><td>zomato</td><td>2023</td><td>5</td><td>2</td></tr><tr><td>3</td><td>B</td><td>2022-02-05</td><td>India</td><td>zomato</td><td>2022</td><td>2</td><td>1</td></tr><tr><td>3</td><td>C</td><td>2023-05-05</td><td>India</td><td>zomato</td><td>2023</td><td>5</td><td>2</td></tr><tr><td>1</td><td>C</td><td>2023-05-05</td><td>UK</td><td>Swiggy</td><td>2023</td><td>5</td><td>2</td></tr><tr><td>6</td><td>C</td><td>2022-05-07</td><td>UK</td><td>zomato</td><td>2022</td><td>5</td><td>2</td></tr><tr><td>3</td><td>D</td><td>2023-02-16</td><td>UK</td><td>Restaurant</td><td>2023</td><td>2</td><td>1</td></tr><tr><td>5</td><td>D</td><td>2022-02-05</td><td>UK</td><td>zomato</td><td>2022</td><td>2</td><td>1</td></tr><tr><td>3</td><td>E</td><td>2023-02-05</td><td>UK</td><td>Restaurant</td><td>2023</td><td>2</td><td>1</td></tr><tr><td>4</td><td>E</td><td>2023-02-05</td><td>UK</td><td>Swiggy</td><td>2023</td><td>2</td><td>1</td></tr><tr><td>4</td><td>E</td><td>2023-02-07</td><td>UK</td><td>Restaurant</td><td>2023</td><td>2</td><td>1</td></tr><tr><td>2</td><td>A</td><td>2022-05-05</td><td>UK</td><td>Swiggy</td><td>2022</td><td>5</td><td>2</td></tr><tr><td>2</td><td>A</td><td>2023-05-07</td><td>UK</td><td>Swiggy</td><td>2023</td><td>5</td><td>2</td></tr><tr><td>3</td><td>A</td><td>2023-05-10</td><td>UK</td><td>Restaurant</td><td>2023</td><td>5</td><td>2</td></tr><tr><td>3</td><td>A</td><td>2022-05-11</td><td>UK</td><td>Swiggy</td><td>2022</td><td>5</td><td>2</td></tr><tr><td>3</td><td>A</td><td>2023-05-11</td><td>UK</td><td>zomato</td><td>2023</td><td>5</td><td>2</td></tr><tr><td>2</td><td>B</td><td>2022-07-05</td><td>UK</td><td>zomato</td><td>2022</td><td>7</td><td>3</td></tr><tr><td>2</td><td>B</td><td>2023-05-02</td><td>UK</td><td>zomato</td><td>2023</td><td>5</td><td>2</td></tr><tr><td>1</td><td>B</td><td>2023-05-04</td><td>UK</td><td>Swiggy</td><td>2023</td><td>5</td><td>2</td></tr><tr><td>1</td><td>B</td><td>2023-07-11</td><td>UK</td><td>Restaurant</td><td>2023</td><td>7</td><td>3</td></tr><tr><td>3</td><td>B</td><td>2023-05-16</td><td>UK</td><td>Swiggy</td><td>2023</td><td>5</td><td>2</td></tr><tr><td>3</td><td>B</td><td>2023-07-05</td><td>UK</td><td>Swiggy</td><td>2023</td><td>7</td><td>3</td></tr><tr><td>3</td><td>C</td><td>2023-05-05</td><td>UK</td><td>Restaurant</td><td>2023</td><td>5</td><td>2</td></tr><tr><td>1</td><td>C</td><td>2023-05-05</td><td>USA</td><td>Swiggy</td><td>2023</td><td>5</td><td>2</td></tr><tr><td>6</td><td>C</td><td>2023-05-07</td><td>USA</td><td>zomato</td><td>2023</td><td>5</td><td>2</td></tr><tr><td>3</td><td>D</td><td>2022-07-16</td><td>USA</td><td>zomato</td><td>2022</td><td>7</td><td>3</td></tr><tr><td>5</td><td>D</td><td>2023-07-05</td><td>USA</td><td>zomato</td><td>2023</td><td>7</td><td>3</td></tr><tr><td>3</td><td>E</td><td>2023-07-05</td><td>USA</td><td>Swiggy</td><td>2023</td><td>7</td><td>3</td></tr><tr><td>4</td><td>E</td><td>2022-07-05</td><td>USA</td><td>zomato</td><td>2022</td><td>7</td><td>3</td></tr><tr><td>4</td><td>E</td><td>2023-07-07</td><td>USA</td><td>zomato</td><td>2023</td><td>7</td><td>3</td></tr><tr><td>1</td><td>A</td><td>2023-06-06</td><td>India</td><td>Swiggy</td><td>2023</td><td>6</td><td>2</td></tr><tr><td>2</td><td>A</td><td>2022-06-06</td><td>India</td><td>Swiggy</td><td>2022</td><td>6</td><td>2</td></tr><tr><td>2</td><td>A</td><td>2023-06-11</td><td>India</td><td>Swiggy</td><td>2023</td><td>6</td><td>2</td></tr><tr><td>3</td><td>A</td><td>2023-06-10</td><td>India</td><td>Restaurant</td><td>2023</td><td>6</td><td>2</td></tr><tr><td>3</td><td>A</td><td>2022-06-11</td><td>India</td><td>Swiggy</td><td>2022</td><td>6</td><td>2</td></tr><tr><td>3</td><td>A</td><td>2023-06-11</td><td>India</td><td>Restaurant</td><td>2023</td><td>6</td><td>2</td></tr><tr><td>2</td><td>B</td><td>2022-02-06</td><td>India</td><td>Swiggy</td><td>2022</td><td>2</td><td>1</td></tr><tr><td>2</td><td>B</td><td>2023-06-02</td><td>India</td><td>Swiggy</td><td>2023</td><td>6</td><td>2</td></tr><tr><td>1</td><td>B</td><td>2023-06-04</td><td>India</td><td>Restaurant</td><td>2023</td><td>6</td><td>2</td></tr><tr><td>1</td><td>B</td><td>2023-02-11</td><td>India</td><td>Swiggy</td><td>2023</td><td>2</td><td>1</td></tr><tr><td>3</td><td>B</td><td>2023-06-16</td><td>India</td><td>zomato</td><td>2023</td><td>6</td><td>2</td></tr><tr><td>3</td><td>B</td><td>2022-02-06</td><td>India</td><td>zomato</td><td>2022</td><td>2</td><td>1</td></tr><tr><td>3</td><td>C</td><td>2023-06-06</td><td>India</td><td>zomato</td><td>2023</td><td>6</td><td>2</td></tr><tr><td>1</td><td>C</td><td>2023-06-06</td><td>UK</td><td>Swiggy</td><td>2023</td><td>6</td><td>2</td></tr><tr><td>6</td><td>C</td><td>2022-06-11</td><td>UK</td><td>zomato</td><td>2022</td><td>6</td><td>2</td></tr><tr><td>3</td><td>D</td><td>2023-02-16</td><td>UK</td><td>Restaurant</td><td>2023</td><td>2</td><td>1</td></tr><tr><td>5</td><td>D</td><td>2022-02-06</td><td>UK</td><td>zomato</td><td>2022</td><td>2</td><td>1</td></tr><tr><td>3</td><td>E</td><td>2023-02-06</td><td>UK</td><td>Restaurant</td><td>2023</td><td>2</td><td>1</td></tr><tr><td>4</td><td>E</td><td>2023-02-06</td><td>UK</td><td>Swiggy</td><td>2023</td><td>2</td><td>1</td></tr><tr><td>4</td><td>E</td><td>2023-02-11</td><td>UK</td><td>Restaurant</td><td>2023</td><td>2</td><td>1</td></tr><tr><td>2</td><td>A</td><td>2022-06-06</td><td>UK</td><td>Swiggy</td><td>2022</td><td>6</td><td>2</td></tr><tr><td>2</td><td>A</td><td>2023-06-11</td><td>UK</td><td>Swiggy</td><td>2023</td><td>6</td><td>2</td></tr><tr><td>3</td><td>A</td><td>2023-06-10</td><td>UK</td><td>Restaurant</td><td>2023</td><td>6</td><td>2</td></tr><tr><td>3</td><td>A</td><td>2022-06-11</td><td>UK</td><td>Swiggy</td><td>2022</td><td>6</td><td>2</td></tr><tr><td>3</td><td>A</td><td>2023-06-11</td><td>UK</td><td>zomato</td><td>2023</td><td>6</td><td>2</td></tr><tr><td>2</td><td>B</td><td>2022-11-06</td><td>UK</td><td>zomato</td><td>2022</td><td>11</td><td>4</td></tr><tr><td>2</td><td>B</td><td>2023-06-02</td><td>UK</td><td>zomato</td><td>2023</td><td>6</td><td>2</td></tr><tr><td>1</td><td>B</td><td>2023-06-04</td><td>UK</td><td>Swiggy</td><td>2023</td><td>6</td><td>2</td></tr><tr><td>1</td><td>B</td><td>2023-11-11</td><td>UK</td><td>Restaurant</td><td>2023</td><td>11</td><td>4</td></tr><tr><td>3</td><td>B</td><td>2023-06-16</td><td>UK</td><td>Swiggy</td><td>2023</td><td>6</td><td>2</td></tr><tr><td>3</td><td>B</td><td>2023-11-06</td><td>UK</td><td>Swiggy</td><td>2023</td><td>11</td><td>4</td></tr><tr><td>3</td><td>C</td><td>2023-06-06</td><td>UK</td><td>Restaurant</td><td>2023</td><td>6</td><td>2</td></tr><tr><td>1</td><td>C</td><td>2023-06-06</td><td>USA</td><td>Swiggy</td><td>2023</td><td>6</td><td>2</td></tr><tr><td>6</td><td>C</td><td>2023-06-11</td><td>USA</td><td>zomato</td><td>2023</td><td>6</td><td>2</td></tr><tr><td>3</td><td>D</td><td>2022-11-16</td><td>USA</td><td>zomato</td><td>2022</td><td>11</td><td>4</td></tr><tr><td>5</td><td>D</td><td>2023-11-06</td><td>USA</td><td>zomato</td><td>2023</td><td>11</td><td>4</td></tr><tr><td>3</td><td>E</td><td>2023-11-06</td><td>USA</td><td>Swiggy</td><td>2023</td><td>11</td><td>4</td></tr><tr><td>4</td><td>E</td><td>2022-11-06</td><td>USA</td><td>zomato</td><td>2022</td><td>11</td><td>4</td></tr><tr><td>4</td><td>E</td><td>2023-11-11</td><td>USA</td><td>zomato</td><td>2023</td><td>11</td><td>4</td></tr></tbody></table></div>"
      ]
     },
     "metadata": {
      "application/vnd.databricks.v1+output": {
       "addedWidgets": {},
       "aggData": [],
       "aggError": "",
       "aggOverflow": false,
       "aggSchema": [],
       "aggSeriesLimitReached": false,
       "aggType": "",
       "arguments": {},
       "columnCustomDisplayInfos": {},
       "data": [
        [
         1,
         "A",
         "2023-01-01",
         "India",
         "Swiggy",
         2023,
         1,
         1
        ],
        [
         2,
         "A",
         "2022-01-01",
         "India",
         "Swiggy",
         2022,
         1,
         1
        ],
        [
         2,
         "A",
         "2023-01-07",
         "India",
         "Swiggy",
         2023,
         1,
         1
        ],
        [
         3,
         "A",
         "2023-01-10",
         "India",
         "Restaurant",
         2023,
         1,
         1
        ],
        [
         3,
         "A",
         "2022-01-11",
         "India",
         "Swiggy",
         2022,
         1,
         1
        ],
        [
         3,
         "A",
         "2023-01-11",
         "India",
         "Restaurant",
         2023,
         1,
         1
        ],
        [
         2,
         "B",
         "2022-02-01",
         "India",
         "Swiggy",
         2022,
         2,
         1
        ],
        [
         2,
         "B",
         "2023-01-02",
         "India",
         "Swiggy",
         2023,
         1,
         1
        ],
        [
         1,
         "B",
         "2023-01-04",
         "India",
         "Restaurant",
         2023,
         1,
         1
        ],
        [
         1,
         "B",
         "2023-02-11",
         "India",
         "Swiggy",
         2023,
         2,
         1
        ],
        [
         3,
         "B",
         "2023-01-16",
         "India",
         "zomato",
         2023,
         1,
         1
        ],
        [
         3,
         "B",
         "2022-02-01",
         "India",
         "zomato",
         2022,
         2,
         1
        ],
        [
         3,
         "C",
         "2023-01-01",
         "India",
         "zomato",
         2023,
         1,
         1
        ],
        [
         1,
         "C",
         "2023-01-01",
         "UK",
         "Swiggy",
         2023,
         1,
         1
        ],
        [
         6,
         "C",
         "2022-01-07",
         "UK",
         "zomato",
         2022,
         1,
         1
        ],
        [
         3,
         "D",
         "2023-02-16",
         "UK",
         "Restaurant",
         2023,
         2,
         1
        ],
        [
         5,
         "D",
         "2022-02-01",
         "UK",
         "zomato",
         2022,
         2,
         1
        ],
        [
         3,
         "E",
         "2023-02-01",
         "UK",
         "Restaurant",
         2023,
         2,
         1
        ],
        [
         4,
         "E",
         "2023-02-01",
         "UK",
         "Swiggy",
         2023,
         2,
         1
        ],
        [
         4,
         "E",
         "2023-02-07",
         "UK",
         "Restaurant",
         2023,
         2,
         1
        ],
        [
         2,
         "A",
         "2022-01-01",
         "UK",
         "Swiggy",
         2022,
         1,
         1
        ],
        [
         2,
         "A",
         "2023-01-07",
         "UK",
         "Swiggy",
         2023,
         1,
         1
        ],
        [
         3,
         "A",
         "2023-01-10",
         "UK",
         "Restaurant",
         2023,
         1,
         1
        ],
        [
         3,
         "A",
         "2022-01-11",
         "UK",
         "Swiggy",
         2022,
         1,
         1
        ],
        [
         3,
         "A",
         "2023-01-11",
         "UK",
         "zomato",
         2023,
         1,
         1
        ],
        [
         2,
         "B",
         "2022-03-01",
         "UK",
         "zomato",
         2022,
         3,
         1
        ],
        [
         2,
         "B",
         "2023-01-02",
         "UK",
         "zomato",
         2023,
         1,
         1
        ],
        [
         1,
         "B",
         "2023-01-04",
         "UK",
         "Swiggy",
         2023,
         1,
         1
        ],
        [
         1,
         "B",
         "2023-03-11",
         "UK",
         "Restaurant",
         2023,
         3,
         1
        ],
        [
         3,
         "B",
         "2023-01-16",
         "UK",
         "Swiggy",
         2023,
         1,
         1
        ],
        [
         3,
         "B",
         "2023-03-01",
         "UK",
         "Swiggy",
         2023,
         3,
         1
        ],
        [
         3,
         "C",
         "2023-01-01",
         "UK",
         "Restaurant",
         2023,
         1,
         1
        ],
        [
         1,
         "C",
         "2023-01-01",
         "USA",
         "Swiggy",
         2023,
         1,
         1
        ],
        [
         6,
         "C",
         "2023-01-07",
         "USA",
         "zomato",
         2023,
         1,
         1
        ],
        [
         3,
         "D",
         "2022-03-16",
         "USA",
         "zomato",
         2022,
         3,
         1
        ],
        [
         5,
         "D",
         "2023-03-01",
         "USA",
         "zomato",
         2023,
         3,
         1
        ],
        [
         3,
         "E",
         "2023-03-01",
         "USA",
         "Swiggy",
         2023,
         3,
         1
        ],
        [
         4,
         "E",
         "2022-03-01",
         "USA",
         "zomato",
         2022,
         3,
         1
        ],
        [
         4,
         "E",
         "2023-03-07",
         "USA",
         "zomato",
         2023,
         3,
         1
        ],
        [
         1,
         "A",
         "2023-05-05",
         "India",
         "Swiggy",
         2023,
         5,
         2
        ],
        [
         2,
         "A",
         "2022-05-05",
         "India",
         "Swiggy",
         2022,
         5,
         2
        ],
        [
         2,
         "A",
         "2023-05-07",
         "India",
         "Swiggy",
         2023,
         5,
         2
        ],
        [
         3,
         "A",
         "2023-05-10",
         "India",
         "Restaurant",
         2023,
         5,
         2
        ],
        [
         3,
         "A",
         "2022-05-11",
         "India",
         "Swiggy",
         2022,
         5,
         2
        ],
        [
         3,
         "A",
         "2023-05-11",
         "India",
         "Restaurant",
         2023,
         5,
         2
        ],
        [
         2,
         "B",
         "2022-02-05",
         "India",
         "Swiggy",
         2022,
         2,
         1
        ],
        [
         2,
         "B",
         "2023-05-02",
         "India",
         "Swiggy",
         2023,
         5,
         2
        ],
        [
         1,
         "B",
         "2023-05-04",
         "India",
         "Restaurant",
         2023,
         5,
         2
        ],
        [
         1,
         "B",
         "2023-02-11",
         "India",
         "Swiggy",
         2023,
         2,
         1
        ],
        [
         3,
         "B",
         "2023-05-16",
         "India",
         "zomato",
         2023,
         5,
         2
        ],
        [
         3,
         "B",
         "2022-02-05",
         "India",
         "zomato",
         2022,
         2,
         1
        ],
        [
         3,
         "C",
         "2023-05-05",
         "India",
         "zomato",
         2023,
         5,
         2
        ],
        [
         1,
         "C",
         "2023-05-05",
         "UK",
         "Swiggy",
         2023,
         5,
         2
        ],
        [
         6,
         "C",
         "2022-05-07",
         "UK",
         "zomato",
         2022,
         5,
         2
        ],
        [
         3,
         "D",
         "2023-02-16",
         "UK",
         "Restaurant",
         2023,
         2,
         1
        ],
        [
         5,
         "D",
         "2022-02-05",
         "UK",
         "zomato",
         2022,
         2,
         1
        ],
        [
         3,
         "E",
         "2023-02-05",
         "UK",
         "Restaurant",
         2023,
         2,
         1
        ],
        [
         4,
         "E",
         "2023-02-05",
         "UK",
         "Swiggy",
         2023,
         2,
         1
        ],
        [
         4,
         "E",
         "2023-02-07",
         "UK",
         "Restaurant",
         2023,
         2,
         1
        ],
        [
         2,
         "A",
         "2022-05-05",
         "UK",
         "Swiggy",
         2022,
         5,
         2
        ],
        [
         2,
         "A",
         "2023-05-07",
         "UK",
         "Swiggy",
         2023,
         5,
         2
        ],
        [
         3,
         "A",
         "2023-05-10",
         "UK",
         "Restaurant",
         2023,
         5,
         2
        ],
        [
         3,
         "A",
         "2022-05-11",
         "UK",
         "Swiggy",
         2022,
         5,
         2
        ],
        [
         3,
         "A",
         "2023-05-11",
         "UK",
         "zomato",
         2023,
         5,
         2
        ],
        [
         2,
         "B",
         "2022-07-05",
         "UK",
         "zomato",
         2022,
         7,
         3
        ],
        [
         2,
         "B",
         "2023-05-02",
         "UK",
         "zomato",
         2023,
         5,
         2
        ],
        [
         1,
         "B",
         "2023-05-04",
         "UK",
         "Swiggy",
         2023,
         5,
         2
        ],
        [
         1,
         "B",
         "2023-07-11",
         "UK",
         "Restaurant",
         2023,
         7,
         3
        ],
        [
         3,
         "B",
         "2023-05-16",
         "UK",
         "Swiggy",
         2023,
         5,
         2
        ],
        [
         3,
         "B",
         "2023-07-05",
         "UK",
         "Swiggy",
         2023,
         7,
         3
        ],
        [
         3,
         "C",
         "2023-05-05",
         "UK",
         "Restaurant",
         2023,
         5,
         2
        ],
        [
         1,
         "C",
         "2023-05-05",
         "USA",
         "Swiggy",
         2023,
         5,
         2
        ],
        [
         6,
         "C",
         "2023-05-07",
         "USA",
         "zomato",
         2023,
         5,
         2
        ],
        [
         3,
         "D",
         "2022-07-16",
         "USA",
         "zomato",
         2022,
         7,
         3
        ],
        [
         5,
         "D",
         "2023-07-05",
         "USA",
         "zomato",
         2023,
         7,
         3
        ],
        [
         3,
         "E",
         "2023-07-05",
         "USA",
         "Swiggy",
         2023,
         7,
         3
        ],
        [
         4,
         "E",
         "2022-07-05",
         "USA",
         "zomato",
         2022,
         7,
         3
        ],
        [
         4,
         "E",
         "2023-07-07",
         "USA",
         "zomato",
         2023,
         7,
         3
        ],
        [
         1,
         "A",
         "2023-06-06",
         "India",
         "Swiggy",
         2023,
         6,
         2
        ],
        [
         2,
         "A",
         "2022-06-06",
         "India",
         "Swiggy",
         2022,
         6,
         2
        ],
        [
         2,
         "A",
         "2023-06-11",
         "India",
         "Swiggy",
         2023,
         6,
         2
        ],
        [
         3,
         "A",
         "2023-06-10",
         "India",
         "Restaurant",
         2023,
         6,
         2
        ],
        [
         3,
         "A",
         "2022-06-11",
         "India",
         "Swiggy",
         2022,
         6,
         2
        ],
        [
         3,
         "A",
         "2023-06-11",
         "India",
         "Restaurant",
         2023,
         6,
         2
        ],
        [
         2,
         "B",
         "2022-02-06",
         "India",
         "Swiggy",
         2022,
         2,
         1
        ],
        [
         2,
         "B",
         "2023-06-02",
         "India",
         "Swiggy",
         2023,
         6,
         2
        ],
        [
         1,
         "B",
         "2023-06-04",
         "India",
         "Restaurant",
         2023,
         6,
         2
        ],
        [
         1,
         "B",
         "2023-02-11",
         "India",
         "Swiggy",
         2023,
         2,
         1
        ],
        [
         3,
         "B",
         "2023-06-16",
         "India",
         "zomato",
         2023,
         6,
         2
        ],
        [
         3,
         "B",
         "2022-02-06",
         "India",
         "zomato",
         2022,
         2,
         1
        ],
        [
         3,
         "C",
         "2023-06-06",
         "India",
         "zomato",
         2023,
         6,
         2
        ],
        [
         1,
         "C",
         "2023-06-06",
         "UK",
         "Swiggy",
         2023,
         6,
         2
        ],
        [
         6,
         "C",
         "2022-06-11",
         "UK",
         "zomato",
         2022,
         6,
         2
        ],
        [
         3,
         "D",
         "2023-02-16",
         "UK",
         "Restaurant",
         2023,
         2,
         1
        ],
        [
         5,
         "D",
         "2022-02-06",
         "UK",
         "zomato",
         2022,
         2,
         1
        ],
        [
         3,
         "E",
         "2023-02-06",
         "UK",
         "Restaurant",
         2023,
         2,
         1
        ],
        [
         4,
         "E",
         "2023-02-06",
         "UK",
         "Swiggy",
         2023,
         2,
         1
        ],
        [
         4,
         "E",
         "2023-02-11",
         "UK",
         "Restaurant",
         2023,
         2,
         1
        ],
        [
         2,
         "A",
         "2022-06-06",
         "UK",
         "Swiggy",
         2022,
         6,
         2
        ],
        [
         2,
         "A",
         "2023-06-11",
         "UK",
         "Swiggy",
         2023,
         6,
         2
        ],
        [
         3,
         "A",
         "2023-06-10",
         "UK",
         "Restaurant",
         2023,
         6,
         2
        ],
        [
         3,
         "A",
         "2022-06-11",
         "UK",
         "Swiggy",
         2022,
         6,
         2
        ],
        [
         3,
         "A",
         "2023-06-11",
         "UK",
         "zomato",
         2023,
         6,
         2
        ],
        [
         2,
         "B",
         "2022-11-06",
         "UK",
         "zomato",
         2022,
         11,
         4
        ],
        [
         2,
         "B",
         "2023-06-02",
         "UK",
         "zomato",
         2023,
         6,
         2
        ],
        [
         1,
         "B",
         "2023-06-04",
         "UK",
         "Swiggy",
         2023,
         6,
         2
        ],
        [
         1,
         "B",
         "2023-11-11",
         "UK",
         "Restaurant",
         2023,
         11,
         4
        ],
        [
         3,
         "B",
         "2023-06-16",
         "UK",
         "Swiggy",
         2023,
         6,
         2
        ],
        [
         3,
         "B",
         "2023-11-06",
         "UK",
         "Swiggy",
         2023,
         11,
         4
        ],
        [
         3,
         "C",
         "2023-06-06",
         "UK",
         "Restaurant",
         2023,
         6,
         2
        ],
        [
         1,
         "C",
         "2023-06-06",
         "USA",
         "Swiggy",
         2023,
         6,
         2
        ],
        [
         6,
         "C",
         "2023-06-11",
         "USA",
         "zomato",
         2023,
         6,
         2
        ],
        [
         3,
         "D",
         "2022-11-16",
         "USA",
         "zomato",
         2022,
         11,
         4
        ],
        [
         5,
         "D",
         "2023-11-06",
         "USA",
         "zomato",
         2023,
         11,
         4
        ],
        [
         3,
         "E",
         "2023-11-06",
         "USA",
         "Swiggy",
         2023,
         11,
         4
        ],
        [
         4,
         "E",
         "2022-11-06",
         "USA",
         "zomato",
         2022,
         11,
         4
        ],
        [
         4,
         "E",
         "2023-11-11",
         "USA",
         "zomato",
         2023,
         11,
         4
        ]
       ],
       "datasetInfos": [],
       "dbfsResultPath": null,
       "isJsonSchema": true,
       "metadata": {},
       "overflow": false,
       "plotOptions": {
        "customPlotOptions": {},
        "displayType": "table",
        "pivotAggregation": null,
        "pivotColumns": null,
        "xColumns": null,
        "yColumns": null
       },
       "removedWidgets": [],
       "schema": [
        {
         "metadata": "{}",
         "name": "product_id",
         "type": "\"integer\""
        },
        {
         "metadata": "{}",
         "name": "customer_id",
         "type": "\"string\""
        },
        {
         "metadata": "{}",
         "name": "order_date",
         "type": "\"date\""
        },
        {
         "metadata": "{}",
         "name": "location",
         "type": "\"string\""
        },
        {
         "metadata": "{}",
         "name": "source_order",
         "type": "\"string\""
        },
        {
         "metadata": "{}",
         "name": "order_year",
         "type": "\"integer\""
        },
        {
         "metadata": "{}",
         "name": "order_month",
         "type": "\"integer\""
        },
        {
         "metadata": "{}",
         "name": "order_quarter",
         "type": "\"integer\""
        }
       ],
       "type": "table"
      }
     },
     "output_type": "display_data"
    }
   ],
   "source": [
    "sales_df = sales_df.withColumn(\"order_month\",month(sales_df.order_date))\n",
    "sales_df = sales_df.withColumn(\"order_quarter\",quarter(sales_df.order_date))\n",
    "display(sales_df)"
   ]
  },
  {
   "cell_type": "code",
   "execution_count": 0,
   "metadata": {
    "application/vnd.databricks.v1+cell": {
     "cellMetadata": {
      "byteLimit": 2048000,
      "rowLimit": 10000
     },
     "inputWidgets": {},
     "nuid": "dc8e5046-d8a3-4cdd-8331-8b9584f297ae",
     "showTitle": true,
     "title": "Menu DataFrame"
    }
   },
   "outputs": [
    {
     "output_type": "display_data",
     "data": {
      "text/html": [
       "<style scoped>\n",
       "  .table-result-container {\n",
       "    max-height: 300px;\n",
       "    overflow: auto;\n",
       "  }\n",
       "  table, th, td {\n",
       "    border: 1px solid black;\n",
       "    border-collapse: collapse;\n",
       "  }\n",
       "  th, td {\n",
       "    padding: 5px;\n",
       "  }\n",
       "  th {\n",
       "    text-align: left;\n",
       "  }\n",
       "</style><div class='table-result-container'><table class='table-result'><thead style='background-color: white'><tr><th>product_id</th><th>product_name</th><th>price</th></tr></thead><tbody><tr><td>1</td><td> PIZZA</td><td> 100</td></tr><tr><td>2</td><td> Chowmin</td><td> 150</td></tr><tr><td>3</td><td> sandwich</td><td> 120</td></tr><tr><td>4</td><td> Dosa</td><td> 110</td></tr><tr><td>5</td><td> Biryani</td><td> 80</td></tr><tr><td>6</td><td> Pasta</td><td> 180</td></tr></tbody></table></div>"
      ]
     },
     "metadata": {
      "application/vnd.databricks.v1+output": {
       "addedWidgets": {},
       "aggData": [],
       "aggError": "",
       "aggOverflow": false,
       "aggSchema": [],
       "aggSeriesLimitReached": false,
       "aggType": "",
       "arguments": {},
       "columnCustomDisplayInfos": {},
       "data": [
        [
         1,
         " PIZZA",
         " 100"
        ],
        [
         2,
         " Chowmin",
         " 150"
        ],
        [
         3,
         " sandwich",
         " 120"
        ],
        [
         4,
         " Dosa",
         " 110"
        ],
        [
         5,
         " Biryani",
         " 80"
        ],
        [
         6,
         " Pasta",
         " 180"
        ]
       ],
       "datasetInfos": [],
       "dbfsResultPath": null,
       "isJsonSchema": true,
       "metadata": {},
       "overflow": false,
       "plotOptions": {
        "customPlotOptions": {},
        "displayType": "table",
        "pivotAggregation": null,
        "pivotColumns": null,
        "xColumns": null,
        "yColumns": null
       },
       "removedWidgets": [],
       "schema": [
        {
         "metadata": "{}",
         "name": "product_id",
         "type": "\"integer\""
        },
        {
         "metadata": "{}",
         "name": "product_name",
         "type": "\"string\""
        },
        {
         "metadata": "{}",
         "name": "price",
         "type": "\"string\""
        }
       ],
       "type": "table"
      }
     },
     "output_type": "display_data"
    }
   ],
   "source": [
    "schema1 = StructType([\n",
    "    StructField(\"product_id\",IntegerType(),True),\n",
    "    StructField(\"product_name\",StringType(),True),\n",
    "    StructField(\"price\",StringType(),True)\n",
    "])\n",
    "\n",
    "menu_df = spark.read.format(\"csv\").option(\"inferschema\",\"true\").schema(schema1).load(\"/FileStore/tables/menu_csv.txt\")\n",
    "\n",
    "display(menu_df)"
   ]
  },
  {
   "cell_type": "code",
   "execution_count": 0,
   "metadata": {
    "application/vnd.databricks.v1+cell": {
     "cellMetadata": {
      "byteLimit": 2048000,
      "rowLimit": 10000
     },
     "inputWidgets": {},
     "nuid": "223a2f4d-489b-427c-b640-89a69750750c",
     "showTitle": true,
     "title": "Total Amount Spent By Each Customer"
    }
   },
   "outputs": [
    {
     "output_type": "display_data",
     "data": {
      "text/html": [
       "<style scoped>\n",
       "  .table-result-container {\n",
       "    max-height: 300px;\n",
       "    overflow: auto;\n",
       "  }\n",
       "  table, th, td {\n",
       "    border: 1px solid black;\n",
       "    border-collapse: collapse;\n",
       "  }\n",
       "  th, td {\n",
       "    padding: 5px;\n",
       "  }\n",
       "  th {\n",
       "    text-align: left;\n",
       "  }\n",
       "</style><div class='table-result-container'><table class='table-result'><thead style='background-color: white'><tr><th>customer_id</th><th>sum(price)</th></tr></thead><tbody><tr><td>A</td><td>4260.0</td></tr><tr><td>B</td><td>4440.0</td></tr><tr><td>C</td><td>2400.0</td></tr><tr><td>D</td><td>1200.0</td></tr><tr><td>E</td><td>2040.0</td></tr></tbody></table></div>"
      ]
     },
     "metadata": {
      "application/vnd.databricks.v1+output": {
       "addedWidgets": {},
       "aggData": [],
       "aggError": "",
       "aggOverflow": false,
       "aggSchema": [],
       "aggSeriesLimitReached": false,
       "aggType": "",
       "arguments": {},
       "columnCustomDisplayInfos": {},
       "data": [
        [
         "A",
         4260.0
        ],
        [
         "B",
         4440.0
        ],
        [
         "C",
         2400.0
        ],
        [
         "D",
         1200.0
        ],
        [
         "E",
         2040.0
        ]
       ],
       "datasetInfos": [],
       "dbfsResultPath": null,
       "isJsonSchema": true,
       "metadata": {},
       "overflow": false,
       "plotOptions": {
        "customPlotOptions": {},
        "displayType": "table",
        "pivotAggregation": null,
        "pivotColumns": null,
        "xColumns": null,
        "yColumns": null
       },
       "removedWidgets": [],
       "schema": [
        {
         "metadata": "{}",
         "name": "customer_id",
         "type": "\"string\""
        },
        {
         "metadata": "{}",
         "name": "sum(price)",
         "type": "\"double\""
        }
       ],
       "type": "table"
      }
     },
     "output_type": "display_data"
    },
    {
     "output_type": "display_data",
     "data": {
      "text/plain": [
       "Databricks visualization. Run in Databricks to view."
      ]
     },
     "metadata": {
      "application/vnd.databricks.v1.subcommand+json": {
       "baseErrorDetails": null,
       "bindings": {},
       "collapsed": false,
       "command": "%python\n__backend_agg_display_orig = display\n__backend_agg_dfs = []\ndef __backend_agg_display_new(df):\n    __backend_agg_df_modules = [\"pandas.core.frame\", \"databricks.koalas.frame\", \"pyspark.sql.dataframe\", \"pyspark.pandas.frame\", \"pyspark.sql.connect.dataframe\"]\n    if (type(df).__module__ in __backend_agg_df_modules and type(df).__name__ == 'DataFrame') or isinstance(df, list):\n        __backend_agg_dfs.append(df)\n\ndisplay = __backend_agg_display_new\n\ndef __backend_agg_user_code_fn():\n    import base64\n    exec(base64.standard_b64decode(\"dG90YWxfYW1vdW50X3NwZW50ID0gKHNhbGVzX2RmLmpvaW4obWVudV9kZiwncHJvZHVjdF9pZCcpLmdyb3VwQnkoJ2N1c3RvbWVyX2lkJykuYWdnKHsncHJpY2UnOidzdW0nfSkKICAgICAgICAgICAgICAgICAgICAgIC5vcmRlckJ5KCdjdXN0b21lcl9pZCcpKQpkaXNwbGF5KHRvdGFsX2Ftb3VudF9zcGVudCk=\").decode())\n\ntry:\n    # run user code\n    __backend_agg_user_code_fn()\n\n    #reset display function\n    display = __backend_agg_display_orig\n\n    if len(__backend_agg_dfs) > 0:\n        # create a temp view\n        if type(__backend_agg_dfs[0]).__module__ == \"databricks.koalas.frame\":\n            # koalas dataframe\n            __backend_agg_dfs[0].to_spark().createOrReplaceTempView(\"DatabricksView9fe809e\")\n        elif type(__backend_agg_dfs[0]).__module__ == \"pandas.core.frame\" or isinstance(__backend_agg_dfs[0], list):\n            # pandas dataframe\n            spark.createDataFrame(__backend_agg_dfs[0]).createOrReplaceTempView(\"DatabricksView9fe809e\")\n        else:\n            __backend_agg_dfs[0].createOrReplaceTempView(\"DatabricksView9fe809e\")\n        #run backend agg\n        display(spark.sql(\"\"\"WITH q AS (select * from DatabricksView9fe809e) SELECT `customer_id`,SUM(`sum(price)`) `column_11fef8802` FROM q GROUP BY `customer_id`\"\"\"))\n    else:\n        displayHTML(\"dataframe no longer exists. If you're using dataframe.display(), use display(dataframe) instead.\")\n\n\nfinally:\n    spark.sql(\"drop view if exists DatabricksView9fe809e\")\n    display = __backend_agg_display_orig\n    del __backend_agg_display_new\n    del __backend_agg_display_orig\n    del __backend_agg_dfs\n    del __backend_agg_user_code_fn\n\n",
       "commandTitle": "Visualization 1",
       "commandType": "auto",
       "commandVersion": 0,
       "commentThread": [],
       "commentsVisible": false,
       "contentSha256Hex": null,
       "customPlotOptions": {
        "redashChart": [
         {
          "key": "type",
          "value": "CHART"
         },
         {
          "key": "options",
          "value": {
           "alignYAxesAtZero": true,
           "coefficient": 1,
           "columnConfigurationMap": {
            "x": {
             "column": "customer_id",
             "id": "column_11fef8801"
            },
            "y": [
             {
              "column": "sum(price)",
              "id": "column_11fef8802",
              "transform": "SUM"
             }
            ]
           },
           "dateTimeFormat": "DD/MM/YYYY HH:mm",
           "direction": {
            "type": "counterclockwise"
           },
           "error_y": {
            "type": "data",
            "visible": true
           },
           "globalSeriesType": "area",
           "isAggregationOn": true,
           "legend": {
            "traceorder": "normal"
           },
           "missingValuesAsZero": true,
           "numberFormat": "0,0.[00000]",
           "percentFormat": "0[.]00%",
           "series": {
            "error_y": {
             "type": "data",
             "visible": true
            },
            "stacking": null
           },
           "seriesOptions": {
            "column_11fef8802": {
             "name": "sum(price)",
             "type": "area",
             "yAxis": 0
            }
           },
           "showDataLabels": true,
           "sizemode": "diameter",
           "sortX": true,
           "sortY": true,
           "swappedAxes": false,
           "textFormat": "",
           "useAggregationsUi": true,
           "valuesOptions": {},
           "version": 2,
           "xAxis": {
            "labels": {
             "enabled": true
            },
            "type": "-"
           },
           "yAxis": [
            {
             "type": "-"
            },
            {
             "opposite": true,
             "type": "-"
            }
           ]
          }
         }
        ]
       },
       "datasetPreviewNameToCmdIdMap": {},
       "diffDeletes": [],
       "diffInserts": [],
       "displayType": "redashChart",
       "error": null,
       "errorDetails": null,
       "errorSummary": null,
       "errorTraceType": null,
       "finishTime": 0,
       "globalVars": {},
       "guid": "",
       "height": "auto",
       "hideCommandCode": false,
       "hideCommandResult": false,
       "iPythonMetadata": null,
       "inputWidgets": {},
       "isLockedInExamMode": false,
       "latestUser": "a user",
       "latestUserId": null,
       "listResultMetadata": null,
       "metadata": {},
       "nuid": "0b6a49ff-ce85-4877-b5a3-fdff060fb2b9",
       "origId": 0,
       "parentHierarchy": [],
       "pivotAggregation": null,
       "pivotColumns": null,
       "position": 7.0,
       "resultDbfsErrorMessage": null,
       "resultDbfsStatus": "INLINED_IN_TREE",
       "results": null,
       "showCommandTitle": false,
       "startTime": 0,
       "state": "input",
       "streamStates": {},
       "subcommandOptions": {
        "queryPlan": {
         "groups": [
          {
           "column": "customer_id",
           "type": "column"
          }
         ],
         "selects": [
          {
           "column": "customer_id",
           "type": "column"
          },
          {
           "alias": "column_11fef8802",
           "args": [
            {
             "column": "sum(price)",
             "type": "column"
            }
           ],
           "function": "SUM",
           "type": "function"
          }
         ]
        }
       },
       "submitTime": 0,
       "subtype": "tableResultSubCmd.visualization",
       "tableResultIndex": 0,
       "useConsistentColors": false,
       "version": "CommandV1",
       "width": "auto",
       "workflows": [],
       "xColumns": null,
       "yColumns": null
      }
     },
     "output_type": "display_data"
    }
   ],
   "source": [
    "total_amount_spent = (sales_df.join(menu_df,'product_id').groupBy('customer_id').agg({'price':'sum'})\n",
    "                      .orderBy('customer_id'))\n",
    "display(total_amount_spent)"
   ]
  },
  {
   "cell_type": "code",
   "execution_count": 0,
   "metadata": {
    "application/vnd.databricks.v1+cell": {
     "cellMetadata": {
      "byteLimit": 2048000,
      "rowLimit": 10000
     },
     "inputWidgets": {},
     "nuid": "d52fcde8-9eae-41b9-b41a-15248771080d",
     "showTitle": true,
     "title": "Total Amount Spent By Each Food Category"
    }
   },
   "outputs": [
    {
     "output_type": "display_data",
     "data": {
      "text/html": [
       "<style scoped>\n",
       "  .table-result-container {\n",
       "    max-height: 300px;\n",
       "    overflow: auto;\n",
       "  }\n",
       "  table, th, td {\n",
       "    border: 1px solid black;\n",
       "    border-collapse: collapse;\n",
       "  }\n",
       "  th, td {\n",
       "    padding: 5px;\n",
       "  }\n",
       "  th {\n",
       "    text-align: left;\n",
       "  }\n",
       "</style><div class='table-result-container'><table class='table-result'><thead style='background-color: white'><tr><th>product_name</th><th>sum(price)</th></tr></thead><tbody><tr><td> Biryani</td><td>480.0</td></tr><tr><td> Chowmin</td><td>3600.0</td></tr><tr><td> Dosa</td><td>1320.0</td></tr><tr><td> PIZZA</td><td>2100.0</td></tr><tr><td> Pasta</td><td>1080.0</td></tr><tr><td> sandwich</td><td>5760.0</td></tr></tbody></table></div>"
      ]
     },
     "metadata": {
      "application/vnd.databricks.v1+output": {
       "addedWidgets": {},
       "aggData": [],
       "aggError": "",
       "aggOverflow": false,
       "aggSchema": [],
       "aggSeriesLimitReached": false,
       "aggType": "",
       "arguments": {},
       "columnCustomDisplayInfos": {},
       "data": [
        [
         " Biryani",
         480.0
        ],
        [
         " Chowmin",
         3600.0
        ],
        [
         " Dosa",
         1320.0
        ],
        [
         " PIZZA",
         2100.0
        ],
        [
         " Pasta",
         1080.0
        ],
        [
         " sandwich",
         5760.0
        ]
       ],
       "datasetInfos": [],
       "dbfsResultPath": null,
       "isJsonSchema": true,
       "metadata": {},
       "overflow": false,
       "plotOptions": {
        "customPlotOptions": {},
        "displayType": "table",
        "pivotAggregation": null,
        "pivotColumns": null,
        "xColumns": null,
        "yColumns": null
       },
       "removedWidgets": [],
       "schema": [
        {
         "metadata": "{}",
         "name": "product_name",
         "type": "\"string\""
        },
        {
         "metadata": "{}",
         "name": "sum(price)",
         "type": "\"double\""
        }
       ],
       "type": "table"
      }
     },
     "output_type": "display_data"
    },
    {
     "output_type": "display_data",
     "data": {
      "text/plain": [
       "Databricks visualization. Run in Databricks to view."
      ]
     },
     "metadata": {
      "application/vnd.databricks.v1.subcommand+json": {
       "baseErrorDetails": null,
       "bindings": {},
       "collapsed": false,
       "command": "%python\n__backend_agg_display_orig = display\n__backend_agg_dfs = []\ndef __backend_agg_display_new(df):\n    __backend_agg_df_modules = [\"pandas.core.frame\", \"databricks.koalas.frame\", \"pyspark.sql.dataframe\", \"pyspark.pandas.frame\", \"pyspark.sql.connect.dataframe\"]\n    if (type(df).__module__ in __backend_agg_df_modules and type(df).__name__ == 'DataFrame') or isinstance(df, list):\n        __backend_agg_dfs.append(df)\n\ndisplay = __backend_agg_display_new\n\ndef __backend_agg_user_code_fn():\n    import base64\n    exec(base64.standard_b64decode(\"dG90YWxfYW1vdW50X3NwZW50ID0gKHNhbGVzX2RmLmpvaW4obWVudV9kZiwncHJvZHVjdF9pZCcpLmdyb3VwQnkoJ3Byb2R1Y3RfbmFtZScpLmFnZyh7J3ByaWNlJzonc3VtJ30pCiAgICAgICAgICAgICAgICAgICAgICAub3JkZXJCeSgncHJvZHVjdF9uYW1lJykpCmRpc3BsYXkodG90YWxfYW1vdW50X3NwZW50KQ==\").decode())\n\ntry:\n    # run user code\n    __backend_agg_user_code_fn()\n\n    #reset display function\n    display = __backend_agg_display_orig\n\n    if len(__backend_agg_dfs) > 0:\n        # create a temp view\n        if type(__backend_agg_dfs[0]).__module__ == \"databricks.koalas.frame\":\n            # koalas dataframe\n            __backend_agg_dfs[0].to_spark().createOrReplaceTempView(\"DatabricksViewc9fa18c\")\n        elif type(__backend_agg_dfs[0]).__module__ == \"pandas.core.frame\" or isinstance(__backend_agg_dfs[0], list):\n            # pandas dataframe\n            spark.createDataFrame(__backend_agg_dfs[0]).createOrReplaceTempView(\"DatabricksViewc9fa18c\")\n        else:\n            __backend_agg_dfs[0].createOrReplaceTempView(\"DatabricksViewc9fa18c\")\n        #run backend agg\n        display(spark.sql(\"\"\"WITH q AS (select * from DatabricksViewc9fa18c) SELECT `product_name`,SUM(`sum(price)`) `column_11fef8805` FROM q GROUP BY `product_name`\"\"\"))\n    else:\n        displayHTML(\"dataframe no longer exists. If you're using dataframe.display(), use display(dataframe) instead.\")\n\n\nfinally:\n    spark.sql(\"drop view if exists DatabricksViewc9fa18c\")\n    display = __backend_agg_display_orig\n    del __backend_agg_display_new\n    del __backend_agg_display_orig\n    del __backend_agg_dfs\n    del __backend_agg_user_code_fn\n\n",
       "commandTitle": "Visualization 1",
       "commandType": "auto",
       "commandVersion": 0,
       "commentThread": [],
       "commentsVisible": false,
       "contentSha256Hex": null,
       "customPlotOptions": {
        "redashChart": [
         {
          "key": "type",
          "value": "CHART"
         },
         {
          "key": "options",
          "value": {
           "alignYAxesAtZero": true,
           "coefficient": 1,
           "columnConfigurationMap": {
            "x": {
             "column": "product_name",
             "id": "column_11fef8804"
            },
            "y": [
             {
              "column": "sum(price)",
              "id": "column_11fef8805",
              "transform": "SUM"
             }
            ]
           },
           "dateTimeFormat": "DD/MM/YYYY HH:mm",
           "direction": {
            "type": "counterclockwise"
           },
           "error_y": {
            "type": "data",
            "visible": true
           },
           "globalSeriesType": "column",
           "isAggregationOn": true,
           "legend": {
            "traceorder": "normal"
           },
           "missingValuesAsZero": true,
           "numberFormat": "0,0.[00000]",
           "percentFormat": "0[.]00%",
           "series": {
            "error_y": {
             "type": "data",
             "visible": true
            },
            "stacking": null
           },
           "seriesOptions": {
            "column_11fef8805": {
             "color": "#049235",
             "name": "sum(price)",
             "yAxis": 0
            }
           },
           "showDataLabels": true,
           "sizemode": "diameter",
           "sortX": true,
           "sortY": true,
           "swappedAxes": true,
           "textFormat": "",
           "useAggregationsUi": true,
           "valuesOptions": {},
           "version": 2,
           "xAxis": {
            "labels": {
             "enabled": true
            },
            "type": "-"
           },
           "yAxis": [
            {
             "type": "-"
            },
            {
             "opposite": true,
             "type": "-"
            }
           ]
          }
         }
        ]
       },
       "datasetPreviewNameToCmdIdMap": {},
       "diffDeletes": [],
       "diffInserts": [],
       "displayType": "redashChart",
       "error": null,
       "errorDetails": null,
       "errorSummary": null,
       "errorTraceType": null,
       "finishTime": 0,
       "globalVars": {},
       "guid": "",
       "height": "auto",
       "hideCommandCode": false,
       "hideCommandResult": false,
       "iPythonMetadata": null,
       "inputWidgets": {},
       "isLockedInExamMode": false,
       "latestUser": "a user",
       "latestUserId": null,
       "listResultMetadata": null,
       "metadata": {},
       "nuid": "47fde154-d3ab-405b-943d-cc21c56c567c",
       "origId": 0,
       "parentHierarchy": [],
       "pivotAggregation": null,
       "pivotColumns": null,
       "position": 8.0,
       "resultDbfsErrorMessage": null,
       "resultDbfsStatus": "INLINED_IN_TREE",
       "results": null,
       "showCommandTitle": false,
       "startTime": 0,
       "state": "input",
       "streamStates": {},
       "subcommandOptions": {
        "queryPlan": {
         "groups": [
          {
           "column": "product_name",
           "type": "column"
          }
         ],
         "selects": [
          {
           "column": "product_name",
           "type": "column"
          },
          {
           "alias": "column_11fef8805",
           "args": [
            {
             "column": "sum(price)",
             "type": "column"
            }
           ],
           "function": "SUM",
           "type": "function"
          }
         ]
        }
       },
       "submitTime": 0,
       "subtype": "tableResultSubCmd.visualization",
       "tableResultIndex": 0,
       "useConsistentColors": false,
       "version": "CommandV1",
       "width": "auto",
       "workflows": [],
       "xColumns": null,
       "yColumns": null
      }
     },
     "output_type": "display_data"
    }
   ],
   "source": [
    "total_amount_spent_each = (sales_df.join(menu_df,'product_id').groupBy('product_name').agg({'price':'sum'})\n",
    "                      .orderBy('product_name'))\n",
    "display(total_amount_spent_each)"
   ]
  },
  {
   "cell_type": "code",
   "execution_count": 0,
   "metadata": {
    "application/vnd.databricks.v1+cell": {
     "cellMetadata": {
      "byteLimit": 2048000,
      "rowLimit": 10000
     },
     "inputWidgets": {},
     "nuid": "7b5afb03-44b9-4508-8dd1-1adbe5fe6cd7",
     "showTitle": true,
     "title": "Total Amount Of The Sales In Each Month"
    }
   },
   "outputs": [
    {
     "output_type": "display_data",
     "data": {
      "text/html": [
       "<style scoped>\n",
       "  .table-result-container {\n",
       "    max-height: 300px;\n",
       "    overflow: auto;\n",
       "  }\n",
       "  table, th, td {\n",
       "    border: 1px solid black;\n",
       "    border-collapse: collapse;\n",
       "  }\n",
       "  th, td {\n",
       "    padding: 5px;\n",
       "  }\n",
       "  th {\n",
       "    text-align: left;\n",
       "  }\n",
       "</style><div class='table-result-container'><table class='table-result'><thead style='background-color: white'><tr><th>order_month</th><th>sum(price)</th></tr></thead><tbody><tr><td>1</td><td>2960.0</td></tr><tr><td>6</td><td>2960.0</td></tr><tr><td>3</td><td>910.0</td></tr><tr><td>5</td><td>2960.0</td></tr><tr><td>7</td><td>910.0</td></tr><tr><td>11</td><td>910.0</td></tr><tr><td>2</td><td>2730.0</td></tr></tbody></table></div>"
      ]
     },
     "metadata": {
      "application/vnd.databricks.v1+output": {
       "addedWidgets": {},
       "aggData": [],
       "aggError": "",
       "aggOverflow": false,
       "aggSchema": [],
       "aggSeriesLimitReached": false,
       "aggType": "",
       "arguments": {},
       "columnCustomDisplayInfos": {},
       "data": [
        [
         1,
         2960.0
        ],
        [
         6,
         2960.0
        ],
        [
         3,
         910.0
        ],
        [
         5,
         2960.0
        ],
        [
         7,
         910.0
        ],
        [
         11,
         910.0
        ],
        [
         2,
         2730.0
        ]
       ],
       "datasetInfos": [],
       "dbfsResultPath": null,
       "isJsonSchema": true,
       "metadata": {},
       "overflow": false,
       "plotOptions": {
        "customPlotOptions": {},
        "displayType": "table",
        "pivotAggregation": null,
        "pivotColumns": null,
        "xColumns": null,
        "yColumns": null
       },
       "removedWidgets": [],
       "schema": [
        {
         "metadata": "{}",
         "name": "order_month",
         "type": "\"integer\""
        },
        {
         "metadata": "{}",
         "name": "sum(price)",
         "type": "\"double\""
        }
       ],
       "type": "table"
      }
     },
     "output_type": "display_data"
    },
    {
     "output_type": "display_data",
     "data": {
      "text/plain": [
       "Databricks visualization. Run in Databricks to view."
      ]
     },
     "metadata": {
      "application/vnd.databricks.v1.subcommand+json": {
       "baseErrorDetails": null,
       "bindings": {},
       "collapsed": false,
       "command": "%python\n__backend_agg_display_orig = display\n__backend_agg_dfs = []\ndef __backend_agg_display_new(df):\n    __backend_agg_df_modules = [\"pandas.core.frame\", \"databricks.koalas.frame\", \"pyspark.sql.dataframe\", \"pyspark.pandas.frame\", \"pyspark.sql.connect.dataframe\"]\n    if (type(df).__module__ in __backend_agg_df_modules and type(df).__name__ == 'DataFrame') or isinstance(df, list):\n        __backend_agg_dfs.append(df)\n\ndisplay = __backend_agg_display_new\n\ndef __backend_agg_user_code_fn():\n    import base64\n    exec(base64.standard_b64decode(\"dG90YWxfYW1vdW50X3NwZW50X2J5TW9udGggPSAoc2FsZXNfZGYuam9pbihtZW51X2RmLCdwcm9kdWN0X2lkJykuZ3JvdXBCeSgnb3JkZXJfbW9udGgnKS5hZ2coeydwcmljZSc6J3N1bSd9KSkKCmRpc3BsYXkodG90YWxfYW1vdW50X3NwZW50X2J5TW9udGgp\").decode())\n\ntry:\n    # run user code\n    __backend_agg_user_code_fn()\n\n    #reset display function\n    display = __backend_agg_display_orig\n\n    if len(__backend_agg_dfs) > 0:\n        # create a temp view\n        if type(__backend_agg_dfs[0]).__module__ == \"databricks.koalas.frame\":\n            # koalas dataframe\n            __backend_agg_dfs[0].to_spark().createOrReplaceTempView(\"DatabricksView4e3835f\")\n        elif type(__backend_agg_dfs[0]).__module__ == \"pandas.core.frame\" or isinstance(__backend_agg_dfs[0], list):\n            # pandas dataframe\n            spark.createDataFrame(__backend_agg_dfs[0]).createOrReplaceTempView(\"DatabricksView4e3835f\")\n        else:\n            __backend_agg_dfs[0].createOrReplaceTempView(\"DatabricksView4e3835f\")\n        #run backend agg\n        display(spark.sql(\"\"\"WITH q AS (select * from DatabricksView4e3835f) SELECT `order_month`,SUM(`sum(price)`) `column_11fef8808` FROM q GROUP BY `order_month`\"\"\"))\n    else:\n        displayHTML(\"dataframe no longer exists. If you're using dataframe.display(), use display(dataframe) instead.\")\n\n\nfinally:\n    spark.sql(\"drop view if exists DatabricksView4e3835f\")\n    display = __backend_agg_display_orig\n    del __backend_agg_display_new\n    del __backend_agg_display_orig\n    del __backend_agg_dfs\n    del __backend_agg_user_code_fn\n\n",
       "commandTitle": "Visualization 1",
       "commandType": "auto",
       "commandVersion": 0,
       "commentThread": [],
       "commentsVisible": false,
       "contentSha256Hex": null,
       "customPlotOptions": {
        "redashChart": [
         {
          "key": "type",
          "value": "CHART"
         },
         {
          "key": "options",
          "value": {
           "alignYAxesAtZero": true,
           "coefficient": 1,
           "columnConfigurationMap": {
            "x": {
             "column": "order_month",
             "id": "column_11fef8807"
            },
            "y": [
             {
              "column": "sum(price)",
              "id": "column_11fef8808",
              "transform": "SUM"
             }
            ]
           },
           "dateTimeFormat": "DD/MM/YYYY HH:mm",
           "direction": {
            "type": "counterclockwise"
           },
           "error_y": {
            "type": "data",
            "visible": true
           },
           "globalSeriesType": "column",
           "isAggregationOn": true,
           "legend": {
            "traceorder": "normal"
           },
           "missingValuesAsZero": true,
           "numberFormat": "0,0.[00000]",
           "percentFormat": "0[.]00%",
           "series": {
            "error_y": {
             "type": "data",
             "visible": true
            },
            "stacking": null
           },
           "seriesOptions": {
            "column_11fef8808": {
             "name": "sum(price)",
             "type": "column",
             "yAxis": 0
            }
           },
           "showDataLabels": true,
           "sizemode": "diameter",
           "sortX": true,
           "sortY": true,
           "swappedAxes": false,
           "textFormat": "",
           "useAggregationsUi": true,
           "valuesOptions": {},
           "version": 2,
           "xAxis": {
            "labels": {
             "enabled": true
            },
            "type": "-"
           },
           "yAxis": [
            {
             "type": "-"
            },
            {
             "opposite": true,
             "type": "-"
            }
           ]
          }
         }
        ]
       },
       "datasetPreviewNameToCmdIdMap": {},
       "diffDeletes": [],
       "diffInserts": [],
       "displayType": "redashChart",
       "error": null,
       "errorDetails": null,
       "errorSummary": null,
       "errorTraceType": null,
       "finishTime": 0,
       "globalVars": {},
       "guid": "",
       "height": "auto",
       "hideCommandCode": false,
       "hideCommandResult": false,
       "iPythonMetadata": null,
       "inputWidgets": {},
       "isLockedInExamMode": false,
       "latestUser": "a user",
       "latestUserId": null,
       "listResultMetadata": null,
       "metadata": {},
       "nuid": "79794b83-c4fe-490e-940f-743cb4d6eb2e",
       "origId": 0,
       "parentHierarchy": [],
       "pivotAggregation": null,
       "pivotColumns": null,
       "position": 9.0,
       "resultDbfsErrorMessage": null,
       "resultDbfsStatus": "INLINED_IN_TREE",
       "results": null,
       "showCommandTitle": false,
       "startTime": 0,
       "state": "input",
       "streamStates": {},
       "subcommandOptions": {
        "queryPlan": {
         "groups": [
          {
           "column": "order_month",
           "type": "column"
          }
         ],
         "selects": [
          {
           "column": "order_month",
           "type": "column"
          },
          {
           "alias": "column_11fef8808",
           "args": [
            {
             "column": "sum(price)",
             "type": "column"
            }
           ],
           "function": "SUM",
           "type": "function"
          }
         ]
        }
       },
       "submitTime": 0,
       "subtype": "tableResultSubCmd.visualization",
       "tableResultIndex": 0,
       "useConsistentColors": false,
       "version": "CommandV1",
       "width": "auto",
       "workflows": [],
       "xColumns": null,
       "yColumns": null
      }
     },
     "output_type": "display_data"
    }
   ],
   "source": [
    "total_amount_spent_byMonth = (sales_df.join(menu_df,'product_id').groupBy('order_month').agg({'price':'sum'}))\n",
    "\n",
    "display(total_amount_spent_byMonth)"
   ]
  },
  {
   "cell_type": "code",
   "execution_count": 0,
   "metadata": {
    "application/vnd.databricks.v1+cell": {
     "cellMetadata": {
      "byteLimit": 2048000,
      "rowLimit": 10000
     },
     "inputWidgets": {},
     "nuid": "93f7d2e2-46e5-4e26-9652-616eb1024e7f",
     "showTitle": true,
     "title": "Yearly Sales"
    }
   },
   "outputs": [
    {
     "output_type": "display_data",
     "data": {
      "text/html": [
       "<style scoped>\n",
       "  .table-result-container {\n",
       "    max-height: 300px;\n",
       "    overflow: auto;\n",
       "  }\n",
       "  table, th, td {\n",
       "    border: 1px solid black;\n",
       "    border-collapse: collapse;\n",
       "  }\n",
       "  th, td {\n",
       "    padding: 5px;\n",
       "  }\n",
       "  th {\n",
       "    text-align: left;\n",
       "  }\n",
       "</style><div class='table-result-container'><table class='table-result'><thead style='background-color: white'><tr><th>order_year</th><th>sum(price)</th></tr></thead><tbody><tr><td>2022</td><td>4350.0</td></tr><tr><td>2023</td><td>9990.0</td></tr></tbody></table></div>"
      ]
     },
     "metadata": {
      "application/vnd.databricks.v1+output": {
       "addedWidgets": {},
       "aggData": [],
       "aggError": "",
       "aggOverflow": false,
       "aggSchema": [],
       "aggSeriesLimitReached": false,
       "aggType": "",
       "arguments": {},
       "columnCustomDisplayInfos": {},
       "data": [
        [
         2022,
         4350.0
        ],
        [
         2023,
         9990.0
        ]
       ],
       "datasetInfos": [],
       "dbfsResultPath": null,
       "isJsonSchema": true,
       "metadata": {},
       "overflow": false,
       "plotOptions": {
        "customPlotOptions": {},
        "displayType": "table",
        "pivotAggregation": null,
        "pivotColumns": null,
        "xColumns": null,
        "yColumns": null
       },
       "removedWidgets": [],
       "schema": [
        {
         "metadata": "{}",
         "name": "order_year",
         "type": "\"integer\""
        },
        {
         "metadata": "{}",
         "name": "sum(price)",
         "type": "\"double\""
        }
       ],
       "type": "table"
      }
     },
     "output_type": "display_data"
    },
    {
     "output_type": "display_data",
     "data": {
      "text/plain": [
       "Databricks visualization. Run in Databricks to view."
      ]
     },
     "metadata": {
      "application/vnd.databricks.v1.subcommand+json": {
       "baseErrorDetails": null,
       "bindings": {},
       "collapsed": false,
       "command": "%python\n__backend_agg_display_orig = display\n__backend_agg_dfs = []\ndef __backend_agg_display_new(df):\n    __backend_agg_df_modules = [\"pandas.core.frame\", \"databricks.koalas.frame\", \"pyspark.sql.dataframe\", \"pyspark.pandas.frame\", \"pyspark.sql.connect.dataframe\"]\n    if (type(df).__module__ in __backend_agg_df_modules and type(df).__name__ == 'DataFrame') or isinstance(df, list):\n        __backend_agg_dfs.append(df)\n\ndisplay = __backend_agg_display_new\n\ndef __backend_agg_user_code_fn():\n    import base64\n    exec(base64.standard_b64decode(\"dG90YWxfYW1vdW50X3NwZW50X2J5WWVhciA9IChzYWxlc19kZi5qb2luKG1lbnVfZGYsJ3Byb2R1Y3RfaWQnKS5ncm91cEJ5KCdvcmRlcl95ZWFyJykuYWdnKHsncHJpY2UnOidzdW0nfSkKICAgICAgICAgICAgICAgICAgICAgICAgICAgICAub3JkZXJCeSgnb3JkZXJfeWVhcicpKQoKZGlzcGxheSh0b3RhbF9hbW91bnRfc3BlbnRfYnlZZWFyKQ==\").decode())\n\ntry:\n    # run user code\n    __backend_agg_user_code_fn()\n\n    #reset display function\n    display = __backend_agg_display_orig\n\n    if len(__backend_agg_dfs) > 0:\n        # create a temp view\n        if type(__backend_agg_dfs[0]).__module__ == \"databricks.koalas.frame\":\n            # koalas dataframe\n            __backend_agg_dfs[0].to_spark().createOrReplaceTempView(\"DatabricksViewcaa6b85\")\n        elif type(__backend_agg_dfs[0]).__module__ == \"pandas.core.frame\" or isinstance(__backend_agg_dfs[0], list):\n            # pandas dataframe\n            spark.createDataFrame(__backend_agg_dfs[0]).createOrReplaceTempView(\"DatabricksViewcaa6b85\")\n        else:\n            __backend_agg_dfs[0].createOrReplaceTempView(\"DatabricksViewcaa6b85\")\n        #run backend agg\n        display(spark.sql(\"\"\"WITH q AS (select * from DatabricksViewcaa6b85) SELECT `order_year`,SUM(`sum(price)`) `column_11fef88011` FROM q GROUP BY `order_year`\"\"\"))\n    else:\n        displayHTML(\"dataframe no longer exists. If you're using dataframe.display(), use display(dataframe) instead.\")\n\n\nfinally:\n    spark.sql(\"drop view if exists DatabricksViewcaa6b85\")\n    display = __backend_agg_display_orig\n    del __backend_agg_display_new\n    del __backend_agg_display_orig\n    del __backend_agg_dfs\n    del __backend_agg_user_code_fn\n\n",
       "commandTitle": "Visualization 1",
       "commandType": "auto",
       "commandVersion": 0,
       "commentThread": [],
       "commentsVisible": false,
       "contentSha256Hex": null,
       "customPlotOptions": {
        "redashChart": [
         {
          "key": "type",
          "value": "CHART"
         },
         {
          "key": "options",
          "value": {
           "alignYAxesAtZero": true,
           "coefficient": 1,
           "columnConfigurationMap": {
            "x": {
             "column": "order_year",
             "id": "column_11fef88010"
            },
            "y": [
             {
              "column": "sum(price)",
              "id": "column_11fef88011",
              "transform": "SUM"
             }
            ]
           },
           "dateTimeFormat": "DD/MM/YYYY HH:mm",
           "direction": {
            "type": "counterclockwise"
           },
           "error_y": {
            "type": "data",
            "visible": true
           },
           "globalSeriesType": "line",
           "isAggregationOn": true,
           "legend": {
            "traceorder": "normal"
           },
           "missingValuesAsZero": true,
           "numberFormat": "0,0.[00000]",
           "percentFormat": "0[.]00%",
           "series": {
            "error_y": {
             "type": "data",
             "visible": true
            },
            "stacking": null
           },
           "seriesOptions": {
            "column_11fef88011": {
             "name": "sum(price)",
             "type": "line",
             "yAxis": 0
            }
           },
           "showDataLabels": true,
           "sizemode": "diameter",
           "sortX": true,
           "sortY": true,
           "swappedAxes": false,
           "textFormat": "",
           "useAggregationsUi": true,
           "valuesOptions": {},
           "version": 2,
           "xAxis": {
            "labels": {
             "enabled": true
            },
            "type": "-"
           },
           "yAxis": [
            {
             "type": "-"
            },
            {
             "opposite": true,
             "type": "-"
            }
           ]
          }
         }
        ]
       },
       "datasetPreviewNameToCmdIdMap": {},
       "diffDeletes": [],
       "diffInserts": [],
       "displayType": "redashChart",
       "error": null,
       "errorDetails": null,
       "errorSummary": null,
       "errorTraceType": null,
       "finishTime": 0,
       "globalVars": {},
       "guid": "",
       "height": "auto",
       "hideCommandCode": false,
       "hideCommandResult": false,
       "iPythonMetadata": null,
       "inputWidgets": {},
       "isLockedInExamMode": false,
       "latestUser": "a user",
       "latestUserId": null,
       "listResultMetadata": null,
       "metadata": {},
       "nuid": "a5617217-c3d6-4284-82bc-c57e37cea729",
       "origId": 0,
       "parentHierarchy": [],
       "pivotAggregation": null,
       "pivotColumns": null,
       "position": 10.0,
       "resultDbfsErrorMessage": null,
       "resultDbfsStatus": "INLINED_IN_TREE",
       "results": null,
       "showCommandTitle": false,
       "startTime": 0,
       "state": "input",
       "streamStates": {},
       "subcommandOptions": {
        "queryPlan": {
         "groups": [
          {
           "column": "order_year",
           "type": "column"
          }
         ],
         "selects": [
          {
           "column": "order_year",
           "type": "column"
          },
          {
           "alias": "column_11fef88011",
           "args": [
            {
             "column": "sum(price)",
             "type": "column"
            }
           ],
           "function": "SUM",
           "type": "function"
          }
         ]
        }
       },
       "submitTime": 0,
       "subtype": "tableResultSubCmd.visualization",
       "tableResultIndex": 0,
       "useConsistentColors": false,
       "version": "CommandV1",
       "width": "auto",
       "workflows": [],
       "xColumns": null,
       "yColumns": null
      }
     },
     "output_type": "display_data"
    }
   ],
   "source": [
    "total_amount_spent_byYear = (sales_df.join(menu_df,'product_id').groupBy('order_year').agg({'price':'sum'})\n",
    "                             .orderBy('order_year'))\n",
    "\n",
    "display(total_amount_spent_byYear)"
   ]
  },
  {
   "cell_type": "code",
   "execution_count": 0,
   "metadata": {
    "application/vnd.databricks.v1+cell": {
     "cellMetadata": {
      "byteLimit": 2048000,
      "rowLimit": 10000
     },
     "inputWidgets": {},
     "nuid": "074d71f4-f880-4073-9419-23b6261726c0",
     "showTitle": true,
     "title": "Quarterly Sales"
    }
   },
   "outputs": [
    {
     "output_type": "display_data",
     "data": {
      "text/html": [
       "<style scoped>\n",
       "  .table-result-container {\n",
       "    max-height: 300px;\n",
       "    overflow: auto;\n",
       "  }\n",
       "  table, th, td {\n",
       "    border: 1px solid black;\n",
       "    border-collapse: collapse;\n",
       "  }\n",
       "  th, td {\n",
       "    padding: 5px;\n",
       "  }\n",
       "  th {\n",
       "    text-align: left;\n",
       "  }\n",
       "</style><div class='table-result-container'><table class='table-result'><thead style='background-color: white'><tr><th>order_Quarter</th><th>sum(price)</th></tr></thead><tbody><tr><td>1</td><td>6600.0</td></tr><tr><td>2</td><td>5920.0</td></tr><tr><td>3</td><td>910.0</td></tr><tr><td>4</td><td>910.0</td></tr></tbody></table></div>"
      ]
     },
     "metadata": {
      "application/vnd.databricks.v1+output": {
       "addedWidgets": {},
       "aggData": [],
       "aggError": "",
       "aggOverflow": false,
       "aggSchema": [],
       "aggSeriesLimitReached": false,
       "aggType": "",
       "arguments": {},
       "columnCustomDisplayInfos": {},
       "data": [
        [
         1,
         6600.0
        ],
        [
         2,
         5920.0
        ],
        [
         3,
         910.0
        ],
        [
         4,
         910.0
        ]
       ],
       "datasetInfos": [],
       "dbfsResultPath": null,
       "isJsonSchema": true,
       "metadata": {},
       "overflow": false,
       "plotOptions": {
        "customPlotOptions": {},
        "displayType": "table",
        "pivotAggregation": null,
        "pivotColumns": null,
        "xColumns": null,
        "yColumns": null
       },
       "removedWidgets": [],
       "schema": [
        {
         "metadata": "{}",
         "name": "order_Quarter",
         "type": "\"integer\""
        },
        {
         "metadata": "{}",
         "name": "sum(price)",
         "type": "\"double\""
        }
       ],
       "type": "table"
      }
     },
     "output_type": "display_data"
    },
    {
     "output_type": "display_data",
     "data": {
      "text/plain": [
       "Databricks visualization. Run in Databricks to view."
      ]
     },
     "metadata": {
      "application/vnd.databricks.v1.subcommand+json": {
       "baseErrorDetails": null,
       "bindings": {},
       "collapsed": false,
       "command": "%python\n__backend_agg_display_orig = display\n__backend_agg_dfs = []\ndef __backend_agg_display_new(df):\n    __backend_agg_df_modules = [\"pandas.core.frame\", \"databricks.koalas.frame\", \"pyspark.sql.dataframe\", \"pyspark.pandas.frame\", \"pyspark.sql.connect.dataframe\"]\n    if (type(df).__module__ in __backend_agg_df_modules and type(df).__name__ == 'DataFrame') or isinstance(df, list):\n        __backend_agg_dfs.append(df)\n\ndisplay = __backend_agg_display_new\n\ndef __backend_agg_user_code_fn():\n    import base64\n    exec(base64.standard_b64decode(\"dG90YWxfYW1vdW50X3NwZW50X2J5UXVhcnRlciA9IChzYWxlc19kZi5qb2luKG1lbnVfZGYsJ3Byb2R1Y3RfaWQnKS5ncm91cEJ5KCdvcmRlcl9RdWFydGVyJykuYWdnKHsncHJpY2UnOidzdW0nfSkKICAgICAgICAgICAgICAgICAgICAgICAgICAgICAub3JkZXJCeSgnb3JkZXJfUXVhcnRlcicpKQoKZGlzcGxheSh0b3RhbF9hbW91bnRfc3BlbnRfYnlRdWFydGVyKQ==\").decode())\n\ntry:\n    # run user code\n    __backend_agg_user_code_fn()\n\n    #reset display function\n    display = __backend_agg_display_orig\n\n    if len(__backend_agg_dfs) > 0:\n        # create a temp view\n        if type(__backend_agg_dfs[0]).__module__ == \"databricks.koalas.frame\":\n            # koalas dataframe\n            __backend_agg_dfs[0].to_spark().createOrReplaceTempView(\"DatabricksView311ae11\")\n        elif type(__backend_agg_dfs[0]).__module__ == \"pandas.core.frame\" or isinstance(__backend_agg_dfs[0], list):\n            # pandas dataframe\n            spark.createDataFrame(__backend_agg_dfs[0]).createOrReplaceTempView(\"DatabricksView311ae11\")\n        else:\n            __backend_agg_dfs[0].createOrReplaceTempView(\"DatabricksView311ae11\")\n        #run backend agg\n        display(spark.sql(\"\"\"WITH q AS (select * from DatabricksView311ae11) SELECT `order_Quarter`,SUM(`sum(price)`) `column_11fef88014` FROM q GROUP BY `order_Quarter`\"\"\"))\n    else:\n        displayHTML(\"dataframe no longer exists. If you're using dataframe.display(), use display(dataframe) instead.\")\n\n\nfinally:\n    spark.sql(\"drop view if exists DatabricksView311ae11\")\n    display = __backend_agg_display_orig\n    del __backend_agg_display_new\n    del __backend_agg_display_orig\n    del __backend_agg_dfs\n    del __backend_agg_user_code_fn\n\n",
       "commandTitle": "Visualization 1",
       "commandType": "auto",
       "commandVersion": 0,
       "commentThread": [],
       "commentsVisible": false,
       "contentSha256Hex": null,
       "customPlotOptions": {
        "redashChart": [
         {
          "key": "type",
          "value": "CHART"
         },
         {
          "key": "options",
          "value": {
           "alignYAxesAtZero": true,
           "coefficient": 1,
           "columnConfigurationMap": {
            "x": {
             "column": "order_Quarter",
             "id": "column_11fef88013"
            },
            "y": [
             {
              "column": "sum(price)",
              "id": "column_11fef88014",
              "transform": "SUM"
             }
            ]
           },
           "dateTimeFormat": "DD/MM/YYYY HH:mm",
           "direction": {
            "type": "counterclockwise"
           },
           "error_y": {
            "type": "data",
            "visible": true
           },
           "globalSeriesType": "pie",
           "isAggregationOn": true,
           "legend": {
            "traceorder": "normal"
           },
           "missingValuesAsZero": true,
           "numberFormat": "0,0.[00000]",
           "percentFormat": "0[.]00%",
           "series": {
            "error_y": {
             "type": "data",
             "visible": true
            },
            "stacking": null
           },
           "seriesOptions": {
            "column_11fef88014": {
             "name": "sum(price)",
             "type": "pie",
             "yAxis": 0
            }
           },
           "showDataLabels": true,
           "sizemode": "diameter",
           "sortX": true,
           "sortY": true,
           "swappedAxes": false,
           "textFormat": "",
           "useAggregationsUi": true,
           "valuesOptions": {},
           "version": 2,
           "xAxis": {
            "labels": {
             "enabled": true
            },
            "type": "-"
           },
           "yAxis": [
            {
             "type": "-"
            },
            {
             "opposite": true,
             "type": "-"
            }
           ]
          }
         }
        ]
       },
       "datasetPreviewNameToCmdIdMap": {},
       "diffDeletes": [],
       "diffInserts": [],
       "displayType": "redashChart",
       "error": null,
       "errorDetails": null,
       "errorSummary": null,
       "errorTraceType": null,
       "finishTime": 0,
       "globalVars": {},
       "guid": "",
       "height": "auto",
       "hideCommandCode": false,
       "hideCommandResult": false,
       "iPythonMetadata": null,
       "inputWidgets": {},
       "isLockedInExamMode": false,
       "latestUser": "a user",
       "latestUserId": null,
       "listResultMetadata": null,
       "metadata": {},
       "nuid": "088b26fe-fe49-4bfc-9537-b29208d305b6",
       "origId": 0,
       "parentHierarchy": [],
       "pivotAggregation": null,
       "pivotColumns": null,
       "position": 11.0,
       "resultDbfsErrorMessage": null,
       "resultDbfsStatus": "INLINED_IN_TREE",
       "results": null,
       "showCommandTitle": false,
       "startTime": 0,
       "state": "input",
       "streamStates": {},
       "subcommandOptions": {
        "queryPlan": {
         "groups": [
          {
           "column": "order_Quarter",
           "type": "column"
          }
         ],
         "selects": [
          {
           "column": "order_Quarter",
           "type": "column"
          },
          {
           "alias": "column_11fef88014",
           "args": [
            {
             "column": "sum(price)",
             "type": "column"
            }
           ],
           "function": "SUM",
           "type": "function"
          }
         ]
        }
       },
       "submitTime": 0,
       "subtype": "tableResultSubCmd.visualization",
       "tableResultIndex": 0,
       "useConsistentColors": false,
       "version": "CommandV1",
       "width": "auto",
       "workflows": [],
       "xColumns": null,
       "yColumns": null
      }
     },
     "output_type": "display_data"
    }
   ],
   "source": [
    "total_amount_spent_byQuarter = (sales_df.join(menu_df,'product_id').groupBy('order_Quarter').agg({'price':'sum'})\n",
    "                             .orderBy('order_Quarter'))\n",
    "\n",
    "display(total_amount_spent_byQuarter)"
   ]
  },
  {
   "cell_type": "code",
   "execution_count": 0,
   "metadata": {
    "application/vnd.databricks.v1+cell": {
     "cellMetadata": {
      "byteLimit": 2048000,
      "rowLimit": 10000
     },
     "inputWidgets": {},
     "nuid": "77f8533e-ae35-4aee-8b9a-a7f13fbacd5f",
     "showTitle": true,
     "title": "How Many Times Each Product Purchased"
    }
   },
   "outputs": [
    {
     "output_type": "display_data",
     "data": {
      "text/html": [
       "<style scoped>\n",
       "  .table-result-container {\n",
       "    max-height: 300px;\n",
       "    overflow: auto;\n",
       "  }\n",
       "  table, th, td {\n",
       "    border: 1px solid black;\n",
       "    border-collapse: collapse;\n",
       "  }\n",
       "  th, td {\n",
       "    padding: 5px;\n",
       "  }\n",
       "  th {\n",
       "    text-align: left;\n",
       "  }\n",
       "</style><div class='table-result-container'><table class='table-result'><thead style='background-color: white'><tr><th>product_name</th><th>product_count</th></tr></thead><tbody><tr><td> sandwich</td><td>48</td></tr><tr><td> Chowmin</td><td>24</td></tr><tr><td> PIZZA</td><td>21</td></tr><tr><td> Dosa</td><td>12</td></tr><tr><td> Biryani</td><td>6</td></tr><tr><td> Pasta</td><td>6</td></tr></tbody></table></div>"
      ]
     },
     "metadata": {
      "application/vnd.databricks.v1+output": {
       "addedWidgets": {},
       "aggData": [],
       "aggError": "",
       "aggOverflow": false,
       "aggSchema": [],
       "aggSeriesLimitReached": false,
       "aggType": "",
       "arguments": {},
       "columnCustomDisplayInfos": {},
       "data": [
        [
         " sandwich",
         48
        ],
        [
         " Chowmin",
         24
        ],
        [
         " PIZZA",
         21
        ],
        [
         " Dosa",
         12
        ],
        [
         " Biryani",
         6
        ],
        [
         " Pasta",
         6
        ]
       ],
       "datasetInfos": [],
       "dbfsResultPath": null,
       "isJsonSchema": true,
       "metadata": {},
       "overflow": false,
       "plotOptions": {
        "customPlotOptions": {},
        "displayType": "table",
        "pivotAggregation": null,
        "pivotColumns": null,
        "xColumns": null,
        "yColumns": null
       },
       "removedWidgets": [],
       "schema": [
        {
         "metadata": "{}",
         "name": "product_name",
         "type": "\"string\""
        },
        {
         "metadata": "{}",
         "name": "product_count",
         "type": "\"long\""
        }
       ],
       "type": "table"
      }
     },
     "output_type": "display_data"
    },
    {
     "output_type": "display_data",
     "data": {
      "text/plain": [
       "Databricks visualization. Run in Databricks to view."
      ]
     },
     "metadata": {
      "application/vnd.databricks.v1.subcommand+json": {
       "baseErrorDetails": null,
       "bindings": {},
       "collapsed": false,
       "command": "from pyspark.sql.functions import count\n\nmost_df = (sales_df.join(menu_df,'product_id').groupBy('product_id','product_name')\n           .agg(count('product_id').alias('product_count')).orderBy('product_count',ascending=0)\n           .drop('product_id')\n           )\ndisplay(most_df)",
       "commandTitle": "Visualization 1",
       "commandType": "auto",
       "commandVersion": 0,
       "commentThread": [],
       "commentsVisible": false,
       "contentSha256Hex": null,
       "customPlotOptions": {
        "redashChart": [
         {
          "key": "type",
          "value": "FUNNEL"
         },
         {
          "key": "options",
          "value": {
           "autoSort": true,
           "itemsLimit": 100,
           "numberFormat": "0,0.[00]",
           "percentFormat": "0[.]00%",
           "percentValuesRange": {
            "max": 1000,
            "min": 0.01
           },
           "sortKeyCol": {
            "colName": "product_count",
            "reverse": true
           },
           "stepCol": {
            "colName": "product_name",
            "displayAs": "Steps"
           },
           "valueCol": {
            "colName": "product_count",
            "displayAs": "Value"
           }
          }
         }
        ]
       },
       "datasetPreviewNameToCmdIdMap": {},
       "diffDeletes": [],
       "diffInserts": [],
       "displayType": "redashChart",
       "error": null,
       "errorDetails": null,
       "errorSummary": null,
       "errorTraceType": null,
       "finishTime": 0,
       "globalVars": {},
       "guid": "",
       "height": "auto",
       "hideCommandCode": false,
       "hideCommandResult": false,
       "iPythonMetadata": null,
       "inputWidgets": {},
       "isLockedInExamMode": false,
       "latestUser": "a user",
       "latestUserId": null,
       "listResultMetadata": null,
       "metadata": {},
       "nuid": "ffdaae0d-d970-45ee-8327-91e23a78405a",
       "origId": 0,
       "parentHierarchy": [],
       "pivotAggregation": null,
       "pivotColumns": null,
       "position": 12.0,
       "resultDbfsErrorMessage": null,
       "resultDbfsStatus": "INLINED_IN_TREE",
       "results": null,
       "showCommandTitle": false,
       "startTime": 0,
       "state": "input",
       "streamStates": {},
       "subcommandOptions": {},
       "submitTime": 0,
       "subtype": "tableResultSubCmd.visualization",
       "tableResultIndex": 0,
       "useConsistentColors": false,
       "version": "CommandV1",
       "width": "auto",
       "workflows": [],
       "xColumns": null,
       "yColumns": null
      }
     },
     "output_type": "display_data"
    }
   ],
   "source": [
    "from pyspark.sql.functions import count\n",
    "\n",
    "most_df = (sales_df.join(menu_df,'product_id').groupBy('product_id','product_name')\n",
    "           .agg(count('product_id').alias('product_count')).orderBy('product_count',ascending=0)\n",
    "           .drop('product_id')\n",
    "           )\n",
    "display(most_df)"
   ]
  },
  {
   "cell_type": "code",
   "execution_count": 0,
   "metadata": {
    "application/vnd.databricks.v1+cell": {
     "cellMetadata": {
      "byteLimit": 2048000,
      "rowLimit": 10000
     },
     "inputWidgets": {},
     "nuid": "d614b528-d9dd-495c-8a3f-c2131f1e025a",
     "showTitle": true,
     "title": "Top 5 Ordered Items"
    }
   },
   "outputs": [
    {
     "output_type": "display_data",
     "data": {
      "text/html": [
       "<style scoped>\n",
       "  .table-result-container {\n",
       "    max-height: 300px;\n",
       "    overflow: auto;\n",
       "  }\n",
       "  table, th, td {\n",
       "    border: 1px solid black;\n",
       "    border-collapse: collapse;\n",
       "  }\n",
       "  th, td {\n",
       "    padding: 5px;\n",
       "  }\n",
       "  th {\n",
       "    text-align: left;\n",
       "  }\n",
       "</style><div class='table-result-container'><table class='table-result'><thead style='background-color: white'><tr><th>product_name</th><th>product_count</th></tr></thead><tbody><tr><td> sandwich</td><td>48</td></tr><tr><td> Chowmin</td><td>24</td></tr><tr><td> PIZZA</td><td>21</td></tr><tr><td> Dosa</td><td>12</td></tr><tr><td> Biryani</td><td>6</td></tr></tbody></table></div>"
      ]
     },
     "metadata": {
      "application/vnd.databricks.v1+output": {
       "addedWidgets": {},
       "aggData": [],
       "aggError": "",
       "aggOverflow": false,
       "aggSchema": [],
       "aggSeriesLimitReached": false,
       "aggType": "",
       "arguments": {},
       "columnCustomDisplayInfos": {},
       "data": [
        [
         " sandwich",
         48
        ],
        [
         " Chowmin",
         24
        ],
        [
         " PIZZA",
         21
        ],
        [
         " Dosa",
         12
        ],
        [
         " Biryani",
         6
        ]
       ],
       "datasetInfos": [],
       "dbfsResultPath": null,
       "isJsonSchema": true,
       "metadata": {},
       "overflow": false,
       "plotOptions": {
        "customPlotOptions": {},
        "displayType": "table",
        "pivotAggregation": null,
        "pivotColumns": null,
        "xColumns": null,
        "yColumns": null
       },
       "removedWidgets": [],
       "schema": [
        {
         "metadata": "{}",
         "name": "product_name",
         "type": "\"string\""
        },
        {
         "metadata": "{}",
         "name": "product_count",
         "type": "\"long\""
        }
       ],
       "type": "table"
      }
     },
     "output_type": "display_data"
    }
   ],
   "source": [
    "from pyspark.sql.functions import count\n",
    "\n",
    "most_df = (sales_df.join(menu_df,'product_id').groupBy('product_id','product_name')\n",
    "           .agg(count('product_id').alias('product_count')).orderBy('product_count',ascending=0)\n",
    "           .drop('product_id').limit(5)\n",
    "           )\n",
    "display(most_df)"
   ]
  },
  {
   "cell_type": "code",
   "execution_count": 0,
   "metadata": {
    "application/vnd.databricks.v1+cell": {
     "cellMetadata": {
      "byteLimit": 2048000,
      "rowLimit": 10000
     },
     "inputWidgets": {},
     "nuid": "96104b7d-c2bd-457c-b7cb-8e612081430a",
     "showTitle": true,
     "title": "Top Ordered Item"
    }
   },
   "outputs": [
    {
     "output_type": "display_data",
     "data": {
      "text/html": [
       "<style scoped>\n",
       "  .table-result-container {\n",
       "    max-height: 300px;\n",
       "    overflow: auto;\n",
       "  }\n",
       "  table, th, td {\n",
       "    border: 1px solid black;\n",
       "    border-collapse: collapse;\n",
       "  }\n",
       "  th, td {\n",
       "    padding: 5px;\n",
       "  }\n",
       "  th {\n",
       "    text-align: left;\n",
       "  }\n",
       "</style><div class='table-result-container'><table class='table-result'><thead style='background-color: white'><tr><th>product_name</th><th>product_count</th></tr></thead><tbody><tr><td> sandwich</td><td>48</td></tr></tbody></table></div>"
      ]
     },
     "metadata": {
      "application/vnd.databricks.v1+output": {
       "addedWidgets": {},
       "aggData": [],
       "aggError": "",
       "aggOverflow": false,
       "aggSchema": [],
       "aggSeriesLimitReached": false,
       "aggType": "",
       "arguments": {},
       "columnCustomDisplayInfos": {},
       "data": [
        [
         " sandwich",
         48
        ]
       ],
       "datasetInfos": [],
       "dbfsResultPath": null,
       "isJsonSchema": true,
       "metadata": {},
       "overflow": false,
       "plotOptions": {
        "customPlotOptions": {},
        "displayType": "table",
        "pivotAggregation": null,
        "pivotColumns": null,
        "xColumns": null,
        "yColumns": null
       },
       "removedWidgets": [],
       "schema": [
        {
         "metadata": "{}",
         "name": "product_name",
         "type": "\"string\""
        },
        {
         "metadata": "{}",
         "name": "product_count",
         "type": "\"long\""
        }
       ],
       "type": "table"
      }
     },
     "output_type": "display_data"
    },
    {
     "output_type": "display_data",
     "data": {
      "text/plain": [
       "Databricks visualization. Run in Databricks to view."
      ]
     },
     "metadata": {
      "application/vnd.databricks.v1.subcommand+json": {
       "baseErrorDetails": null,
       "bindings": {},
       "collapsed": false,
       "command": "from pyspark.sql.functions import count\n\nmost_df = (sales_df.join(menu_df,'product_id').groupBy('product_id','product_name')\n           .agg(count('product_id').alias('product_count')).orderBy('product_count',ascending=0)\n           .drop('product_id').limit(1)\n           )\ndisplay(most_df)",
       "commandTitle": "Visualization 1",
       "commandType": "auto",
       "commandVersion": 0,
       "commentThread": [],
       "commentsVisible": false,
       "contentSha256Hex": null,
       "customPlotOptions": {
        "redashChart": [
         {
          "key": "type",
          "value": "COUNTER"
         },
         {
          "key": "options",
          "value": {
           "counterColName": "product_count",
           "counterLabel": "",
           "rowNumber": 1,
           "stringDecChar": ".",
           "stringDecimal": 0,
           "stringThouSep": ",",
           "targetColName": "product_name",
           "targetRowNumber": 1,
           "tooltipFormat": "0,0.000"
          }
         }
        ]
       },
       "datasetPreviewNameToCmdIdMap": {},
       "diffDeletes": [],
       "diffInserts": [],
       "displayType": "redashChart",
       "error": null,
       "errorDetails": null,
       "errorSummary": null,
       "errorTraceType": null,
       "finishTime": 0,
       "globalVars": {},
       "guid": "",
       "height": "auto",
       "hideCommandCode": false,
       "hideCommandResult": false,
       "iPythonMetadata": null,
       "inputWidgets": {},
       "isLockedInExamMode": false,
       "latestUser": "a user",
       "latestUserId": null,
       "listResultMetadata": null,
       "metadata": {},
       "nuid": "2a1cc182-8ed9-4ef6-bbcd-c4cb8b8f4337",
       "origId": 0,
       "parentHierarchy": [],
       "pivotAggregation": null,
       "pivotColumns": null,
       "position": 14.0,
       "resultDbfsErrorMessage": null,
       "resultDbfsStatus": "INLINED_IN_TREE",
       "results": null,
       "showCommandTitle": false,
       "startTime": 0,
       "state": "input",
       "streamStates": {},
       "subcommandOptions": {},
       "submitTime": 0,
       "subtype": "tableResultSubCmd.visualization",
       "tableResultIndex": 0,
       "useConsistentColors": false,
       "version": "CommandV1",
       "width": "auto",
       "workflows": [],
       "xColumns": null,
       "yColumns": null
      }
     },
     "output_type": "display_data"
    }
   ],
   "source": [
    "from pyspark.sql.functions import count\n",
    "\n",
    "most_df = (sales_df.join(menu_df,'product_id').groupBy('product_id','product_name')\n",
    "           .agg(count('product_id').alias('product_count')).orderBy('product_count',ascending=0)\n",
    "           .drop('product_id').limit(1)\n",
    "           )\n",
    "display(most_df)"
   ]
  },
  {
   "cell_type": "code",
   "execution_count": 0,
   "metadata": {
    "application/vnd.databricks.v1+cell": {
     "cellMetadata": {
      "byteLimit": 2048000,
      "rowLimit": 10000
     },
     "inputWidgets": {},
     "nuid": "40b6012f-68bd-4010-9be5-181b5bfb4d56",
     "showTitle": true,
     "title": "Frequency Of Customer Visited Restaurant"
    }
   },
   "outputs": [
    {
     "output_type": "display_data",
     "data": {
      "text/html": [
       "<style scoped>\n",
       "  .table-result-container {\n",
       "    max-height: 300px;\n",
       "    overflow: auto;\n",
       "  }\n",
       "  table, th, td {\n",
       "    border: 1px solid black;\n",
       "    border-collapse: collapse;\n",
       "  }\n",
       "  th, td {\n",
       "    padding: 5px;\n",
       "  }\n",
       "  th {\n",
       "    text-align: left;\n",
       "  }\n",
       "</style><div class='table-result-container'><table class='table-result'><thead style='background-color: white'><tr><th>customer_id</th><th>count(order_date)</th></tr></thead><tbody><tr><td>E</td><td>5</td></tr><tr><td>B</td><td>6</td></tr><tr><td>D</td><td>1</td></tr><tr><td>C</td><td>3</td></tr><tr><td>A</td><td>6</td></tr></tbody></table></div>"
      ]
     },
     "metadata": {
      "application/vnd.databricks.v1+output": {
       "addedWidgets": {},
       "aggData": [],
       "aggError": "",
       "aggOverflow": false,
       "aggSchema": [],
       "aggSeriesLimitReached": false,
       "aggType": "",
       "arguments": {},
       "columnCustomDisplayInfos": {},
       "data": [
        [
         "E",
         5
        ],
        [
         "B",
         6
        ],
        [
         "D",
         1
        ],
        [
         "C",
         3
        ],
        [
         "A",
         6
        ]
       ],
       "datasetInfos": [],
       "dbfsResultPath": null,
       "isJsonSchema": true,
       "metadata": {},
       "overflow": false,
       "plotOptions": {
        "customPlotOptions": {},
        "displayType": "table",
        "pivotAggregation": null,
        "pivotColumns": null,
        "xColumns": null,
        "yColumns": null
       },
       "removedWidgets": [],
       "schema": [
        {
         "metadata": "{}",
         "name": "customer_id",
         "type": "\"string\""
        },
        {
         "metadata": "{}",
         "name": "count(order_date)",
         "type": "\"long\""
        }
       ],
       "type": "table"
      }
     },
     "output_type": "display_data"
    },
    {
     "output_type": "display_data",
     "data": {
      "text/plain": [
       "Databricks visualization. Run in Databricks to view."
      ]
     },
     "metadata": {
      "application/vnd.databricks.v1.subcommand+json": {
       "baseErrorDetails": null,
       "bindings": {},
       "collapsed": false,
       "command": "%python\n__backend_agg_display_orig = display\n__backend_agg_dfs = []\ndef __backend_agg_display_new(df):\n    __backend_agg_df_modules = [\"pandas.core.frame\", \"databricks.koalas.frame\", \"pyspark.sql.dataframe\", \"pyspark.pandas.frame\", \"pyspark.sql.connect.dataframe\"]\n    if (type(df).__module__ in __backend_agg_df_modules and type(df).__name__ == 'DataFrame') or isinstance(df, list):\n        __backend_agg_dfs.append(df)\n\ndisplay = __backend_agg_display_new\n\ndef __backend_agg_user_code_fn():\n    import base64\n    exec(base64.standard_b64decode(\"ZnJvbSBweXNwYXJrLnNxbC5mdW5jdGlvbnMgaW1wb3J0IGNvdW50RGlzdGluY3QKCmRmID0gKHNhbGVzX2RmLmZpbHRlcihzYWxlc19kZi5zb3VyY2Vfb3JkZXI9PSdSZXN0YXVyYW50JykuZ3JvdXBCeSgnY3VzdG9tZXJfaWQnKS5hZ2coY291bnREaXN0aW5jdCgnb3JkZXJfZGF0ZScpKSkKCmRpc3BsYXkoZGYp\").decode())\n\ntry:\n    # run user code\n    __backend_agg_user_code_fn()\n\n    #reset display function\n    display = __backend_agg_display_orig\n\n    if len(__backend_agg_dfs) > 0:\n        # create a temp view\n        if type(__backend_agg_dfs[0]).__module__ == \"databricks.koalas.frame\":\n            # koalas dataframe\n            __backend_agg_dfs[0].to_spark().createOrReplaceTempView(\"DatabricksViewd7929d1\")\n        elif type(__backend_agg_dfs[0]).__module__ == \"pandas.core.frame\" or isinstance(__backend_agg_dfs[0], list):\n            # pandas dataframe\n            spark.createDataFrame(__backend_agg_dfs[0]).createOrReplaceTempView(\"DatabricksViewd7929d1\")\n        else:\n            __backend_agg_dfs[0].createOrReplaceTempView(\"DatabricksViewd7929d1\")\n        #run backend agg\n        display(spark.sql(\"\"\"WITH q AS (select * from DatabricksViewd7929d1) SELECT `customer_id`,SUM(`count(order_date)`) `column_11fef88023` FROM q GROUP BY `customer_id`\"\"\"))\n    else:\n        displayHTML(\"dataframe no longer exists. If you're using dataframe.display(), use display(dataframe) instead.\")\n\n\nfinally:\n    spark.sql(\"drop view if exists DatabricksViewd7929d1\")\n    display = __backend_agg_display_orig\n    del __backend_agg_display_new\n    del __backend_agg_display_orig\n    del __backend_agg_dfs\n    del __backend_agg_user_code_fn\n\n",
       "commandTitle": "Visualization 1",
       "commandType": "auto",
       "commandVersion": 0,
       "commentThread": [],
       "commentsVisible": false,
       "contentSha256Hex": null,
       "customPlotOptions": {
        "redashChart": [
         {
          "key": "type",
          "value": "CHART"
         },
         {
          "key": "options",
          "value": {
           "alignYAxesAtZero": true,
           "coefficient": 1,
           "columnConfigurationMap": {
            "x": {
             "column": "customer_id",
             "id": "column_11fef88022"
            },
            "y": [
             {
              "column": "count(order_date)",
              "id": "column_11fef88023",
              "transform": "SUM"
             }
            ]
           },
           "dateTimeFormat": "DD/MM/YYYY HH:mm",
           "direction": {
            "type": "counterclockwise"
           },
           "error_y": {
            "type": "data",
            "visible": true
           },
           "globalSeriesType": "column",
           "isAggregationOn": true,
           "legend": {
            "traceorder": "normal"
           },
           "missingValuesAsZero": true,
           "numberFormat": "0,0.[00000]",
           "percentFormat": "0[.]00%",
           "series": {
            "error_y": {
             "type": "data",
             "visible": true
            },
            "stacking": null
           },
           "seriesOptions": {
            "column_11fef88023": {
             "color": "#FB8D3D",
             "name": "count(order_date)",
             "yAxis": 0
            }
           },
           "showDataLabels": true,
           "sizemode": "diameter",
           "sortX": true,
           "sortY": true,
           "swappedAxes": true,
           "textFormat": "",
           "useAggregationsUi": true,
           "valuesOptions": {},
           "version": 2,
           "xAxis": {
            "labels": {
             "enabled": true
            },
            "type": "-"
           },
           "yAxis": [
            {
             "type": "-"
            },
            {
             "opposite": true,
             "type": "-"
            }
           ]
          }
         }
        ]
       },
       "datasetPreviewNameToCmdIdMap": {},
       "diffDeletes": [],
       "diffInserts": [],
       "displayType": "redashChart",
       "error": null,
       "errorDetails": null,
       "errorSummary": null,
       "errorTraceType": null,
       "finishTime": 0,
       "globalVars": {},
       "guid": "",
       "height": "auto",
       "hideCommandCode": false,
       "hideCommandResult": false,
       "iPythonMetadata": null,
       "inputWidgets": {},
       "isLockedInExamMode": false,
       "latestUser": "a user",
       "latestUserId": null,
       "listResultMetadata": null,
       "metadata": {},
       "nuid": "a844016e-ad47-4142-a704-264e963c952c",
       "origId": 0,
       "parentHierarchy": [],
       "pivotAggregation": null,
       "pivotColumns": null,
       "position": 15.0,
       "resultDbfsErrorMessage": null,
       "resultDbfsStatus": "INLINED_IN_TREE",
       "results": null,
       "showCommandTitle": false,
       "startTime": 0,
       "state": "input",
       "streamStates": {},
       "subcommandOptions": {
        "queryPlan": {
         "groups": [
          {
           "column": "customer_id",
           "type": "column"
          }
         ],
         "selects": [
          {
           "column": "customer_id",
           "type": "column"
          },
          {
           "alias": "column_11fef88023",
           "args": [
            {
             "column": "count(order_date)",
             "type": "column"
            }
           ],
           "function": "SUM",
           "type": "function"
          }
         ]
        }
       },
       "submitTime": 0,
       "subtype": "tableResultSubCmd.visualization",
       "tableResultIndex": 0,
       "useConsistentColors": false,
       "version": "CommandV1",
       "width": "auto",
       "workflows": [],
       "xColumns": null,
       "yColumns": null
      }
     },
     "output_type": "display_data"
    }
   ],
   "source": [
    "from pyspark.sql.functions import countDistinct\n",
    "\n",
    "df = (sales_df.filter(sales_df.source_order=='Restaurant').groupBy('customer_id').agg(countDistinct('order_date')))\n",
    "\n",
    "display(df)"
   ]
  },
  {
   "cell_type": "code",
   "execution_count": 0,
   "metadata": {
    "application/vnd.databricks.v1+cell": {
     "cellMetadata": {
      "byteLimit": 2048000,
      "rowLimit": 10000
     },
     "inputWidgets": {},
     "nuid": "7ac83fb2-2b98-44c0-8b44-e154312e457a",
     "showTitle": true,
     "title": "Total Sales By Each Country"
    }
   },
   "outputs": [
    {
     "output_type": "display_data",
     "data": {
      "text/html": [
       "<style scoped>\n",
       "  .table-result-container {\n",
       "    max-height: 300px;\n",
       "    overflow: auto;\n",
       "  }\n",
       "  table, th, td {\n",
       "    border: 1px solid black;\n",
       "    border-collapse: collapse;\n",
       "  }\n",
       "  th, td {\n",
       "    padding: 5px;\n",
       "  }\n",
       "  th {\n",
       "    text-align: left;\n",
       "  }\n",
       "</style><div class='table-result-container'><table class='table-result'><thead style='background-color: white'><tr><th>location</th><th>sum(price)</th></tr></thead><tbody><tr><td>India</td><td>4860.0</td></tr><tr><td>USA</td><td>2460.0</td></tr><tr><td>UK</td><td>7020.0</td></tr></tbody></table></div>"
      ]
     },
     "metadata": {
      "application/vnd.databricks.v1+output": {
       "addedWidgets": {},
       "aggData": [],
       "aggError": "",
       "aggOverflow": false,
       "aggSchema": [],
       "aggSeriesLimitReached": false,
       "aggType": "",
       "arguments": {},
       "columnCustomDisplayInfos": {},
       "data": [
        [
         "India",
         4860.0
        ],
        [
         "USA",
         2460.0
        ],
        [
         "UK",
         7020.0
        ]
       ],
       "datasetInfos": [],
       "dbfsResultPath": null,
       "isJsonSchema": true,
       "metadata": {},
       "overflow": false,
       "plotOptions": {
        "customPlotOptions": {},
        "displayType": "table",
        "pivotAggregation": null,
        "pivotColumns": null,
        "xColumns": null,
        "yColumns": null
       },
       "removedWidgets": [],
       "schema": [
        {
         "metadata": "{}",
         "name": "location",
         "type": "\"string\""
        },
        {
         "metadata": "{}",
         "name": "sum(price)",
         "type": "\"double\""
        }
       ],
       "type": "table"
      }
     },
     "output_type": "display_data"
    },
    {
     "output_type": "display_data",
     "data": {
      "text/plain": [
       "Databricks visualization. Run in Databricks to view."
      ]
     },
     "metadata": {
      "application/vnd.databricks.v1.subcommand+json": {
       "baseErrorDetails": null,
       "bindings": {},
       "collapsed": false,
       "command": "%python\n__backend_agg_display_orig = display\n__backend_agg_dfs = []\ndef __backend_agg_display_new(df):\n    __backend_agg_df_modules = [\"pandas.core.frame\", \"databricks.koalas.frame\", \"pyspark.sql.dataframe\", \"pyspark.pandas.frame\", \"pyspark.sql.connect.dataframe\"]\n    if (type(df).__module__ in __backend_agg_df_modules and type(df).__name__ == 'DataFrame') or isinstance(df, list):\n        __backend_agg_dfs.append(df)\n\ndisplay = __backend_agg_display_new\n\ndef __backend_agg_user_code_fn():\n    import base64\n    exec(base64.standard_b64decode(\"dG90YWxfc2FsZXNCeV9lYWNoX2NvdW50cnkgPSAoc2FsZXNfZGYuam9pbihtZW51X2RmLCdwcm9kdWN0X2lkJykuZ3JvdXBCeSgnbG9jYXRpb24nKS5hZ2coeydwcmljZSc6J3N1bSd9KQogICAgICAgICAgICAgICAgICAgICAgICAgICAgICkKCmRpc3BsYXkodG90YWxfc2FsZXNCeV9lYWNoX2NvdW50cnkp\").decode())\n\ntry:\n    # run user code\n    __backend_agg_user_code_fn()\n\n    #reset display function\n    display = __backend_agg_display_orig\n\n    if len(__backend_agg_dfs) > 0:\n        # create a temp view\n        if type(__backend_agg_dfs[0]).__module__ == \"databricks.koalas.frame\":\n            # koalas dataframe\n            __backend_agg_dfs[0].to_spark().createOrReplaceTempView(\"DatabricksViewf17b56c\")\n        elif type(__backend_agg_dfs[0]).__module__ == \"pandas.core.frame\" or isinstance(__backend_agg_dfs[0], list):\n            # pandas dataframe\n            spark.createDataFrame(__backend_agg_dfs[0]).createOrReplaceTempView(\"DatabricksViewf17b56c\")\n        else:\n            __backend_agg_dfs[0].createOrReplaceTempView(\"DatabricksViewf17b56c\")\n        #run backend agg\n        display(spark.sql(\"\"\"WITH q AS (select * from DatabricksViewf17b56c) SELECT `location`,SUM(`sum(price)`) `column_11fef88026` FROM q GROUP BY `location`\"\"\"))\n    else:\n        displayHTML(\"dataframe no longer exists. If you're using dataframe.display(), use display(dataframe) instead.\")\n\n\nfinally:\n    spark.sql(\"drop view if exists DatabricksViewf17b56c\")\n    display = __backend_agg_display_orig\n    del __backend_agg_display_new\n    del __backend_agg_display_orig\n    del __backend_agg_dfs\n    del __backend_agg_user_code_fn\n\n",
       "commandTitle": "Visualization 1",
       "commandType": "auto",
       "commandVersion": 0,
       "commentThread": [],
       "commentsVisible": false,
       "contentSha256Hex": null,
       "customPlotOptions": {
        "redashChart": [
         {
          "key": "type",
          "value": "CHART"
         },
         {
          "key": "options",
          "value": {
           "alignYAxesAtZero": true,
           "coefficient": 1,
           "columnConfigurationMap": {
            "x": {
             "column": "location",
             "id": "column_11fef88025"
            },
            "y": [
             {
              "column": "sum(price)",
              "id": "column_11fef88026",
              "transform": "SUM"
             }
            ]
           },
           "dateTimeFormat": "DD/MM/YYYY HH:mm",
           "direction": {
            "type": "counterclockwise"
           },
           "error_y": {
            "type": "data",
            "visible": true
           },
           "globalSeriesType": "column",
           "isAggregationOn": true,
           "legend": {
            "traceorder": "normal"
           },
           "missingValuesAsZero": true,
           "numberFormat": "0,0.[00000]",
           "percentFormat": "0[.]00%",
           "series": {
            "error_y": {
             "type": "data",
             "visible": true
            },
            "stacking": null
           },
           "seriesOptions": {
            "column_11fef88026": {
             "color": "#FF7DE3",
             "name": "sum(price)",
             "yAxis": 0
            }
           },
           "showDataLabels": true,
           "sizemode": "diameter",
           "sortX": true,
           "sortY": true,
           "swappedAxes": true,
           "textFormat": "",
           "useAggregationsUi": true,
           "valuesOptions": {},
           "version": 2,
           "xAxis": {
            "labels": {
             "enabled": true
            },
            "type": "-"
           },
           "yAxis": [
            {
             "type": "-"
            },
            {
             "opposite": true,
             "type": "-"
            }
           ]
          }
         }
        ]
       },
       "datasetPreviewNameToCmdIdMap": {},
       "diffDeletes": [],
       "diffInserts": [],
       "displayType": "redashChart",
       "error": null,
       "errorDetails": null,
       "errorSummary": null,
       "errorTraceType": null,
       "finishTime": 0,
       "globalVars": {},
       "guid": "",
       "height": "auto",
       "hideCommandCode": false,
       "hideCommandResult": false,
       "iPythonMetadata": null,
       "inputWidgets": {},
       "isLockedInExamMode": false,
       "latestUser": "a user",
       "latestUserId": null,
       "listResultMetadata": null,
       "metadata": {},
       "nuid": "680c0757-0abb-4e90-906d-3a57653c22d9",
       "origId": 0,
       "parentHierarchy": [],
       "pivotAggregation": null,
       "pivotColumns": null,
       "position": 16.0,
       "resultDbfsErrorMessage": null,
       "resultDbfsStatus": "INLINED_IN_TREE",
       "results": null,
       "showCommandTitle": false,
       "startTime": 0,
       "state": "input",
       "streamStates": {},
       "subcommandOptions": {
        "queryPlan": {
         "groups": [
          {
           "column": "location",
           "type": "column"
          }
         ],
         "selects": [
          {
           "column": "location",
           "type": "column"
          },
          {
           "alias": "column_11fef88026",
           "args": [
            {
             "column": "sum(price)",
             "type": "column"
            }
           ],
           "function": "SUM",
           "type": "function"
          }
         ]
        }
       },
       "submitTime": 0,
       "subtype": "tableResultSubCmd.visualization",
       "tableResultIndex": 0,
       "useConsistentColors": false,
       "version": "CommandV1",
       "width": "auto",
       "workflows": [],
       "xColumns": null,
       "yColumns": null
      }
     },
     "output_type": "display_data"
    }
   ],
   "source": [
    "total_salesBy_each_country = (sales_df.join(menu_df,'product_id').groupBy('location').agg({'price':'sum'})\n",
    "                             )\n",
    "\n",
    "display(total_salesBy_each_country)"
   ]
  },
  {
   "cell_type": "code",
   "execution_count": 0,
   "metadata": {
    "application/vnd.databricks.v1+cell": {
     "cellMetadata": {
      "byteLimit": 2048000,
      "rowLimit": 10000
     },
     "inputWidgets": {},
     "nuid": "3c4e5e46-51d1-4e63-8eef-ccf0ae934d23",
     "showTitle": true,
     "title": "Total Sales By order_source"
    }
   },
   "outputs": [
    {
     "output_type": "display_data",
     "data": {
      "text/html": [
       "<style scoped>\n",
       "  .table-result-container {\n",
       "    max-height: 300px;\n",
       "    overflow: auto;\n",
       "  }\n",
       "  table, th, td {\n",
       "    border: 1px solid black;\n",
       "    border-collapse: collapse;\n",
       "  }\n",
       "  th, td {\n",
       "    padding: 5px;\n",
       "  }\n",
       "  th {\n",
       "    text-align: left;\n",
       "  }\n",
       "</style><div class='table-result-container'><table class='table-result'><thead style='background-color: white'><tr><th>source_order</th><th>sum(price)</th></tr></thead><tbody><tr><td>zomato</td><td>4920.0</td></tr><tr><td>Swiggy</td><td>6330.0</td></tr><tr><td>Restaurant</td><td>3090.0</td></tr></tbody></table></div>"
      ]
     },
     "metadata": {
      "application/vnd.databricks.v1+output": {
       "addedWidgets": {},
       "aggData": [],
       "aggError": "",
       "aggOverflow": false,
       "aggSchema": [],
       "aggSeriesLimitReached": false,
       "aggType": "",
       "arguments": {},
       "columnCustomDisplayInfos": {},
       "data": [
        [
         "zomato",
         4920.0
        ],
        [
         "Swiggy",
         6330.0
        ],
        [
         "Restaurant",
         3090.0
        ]
       ],
       "datasetInfos": [],
       "dbfsResultPath": null,
       "isJsonSchema": true,
       "metadata": {},
       "overflow": false,
       "plotOptions": {
        "customPlotOptions": {},
        "displayType": "table",
        "pivotAggregation": null,
        "pivotColumns": null,
        "xColumns": null,
        "yColumns": null
       },
       "removedWidgets": [],
       "schema": [
        {
         "metadata": "{}",
         "name": "source_order",
         "type": "\"string\""
        },
        {
         "metadata": "{}",
         "name": "sum(price)",
         "type": "\"double\""
        }
       ],
       "type": "table"
      }
     },
     "output_type": "display_data"
    },
    {
     "output_type": "display_data",
     "data": {
      "text/plain": [
       "Databricks visualization. Run in Databricks to view."
      ]
     },
     "metadata": {
      "application/vnd.databricks.v1.subcommand+json": {
       "baseErrorDetails": null,
       "bindings": {},
       "collapsed": false,
       "command": "%python\n__backend_agg_display_orig = display\n__backend_agg_dfs = []\ndef __backend_agg_display_new(df):\n    __backend_agg_df_modules = [\"pandas.core.frame\", \"databricks.koalas.frame\", \"pyspark.sql.dataframe\", \"pyspark.pandas.frame\", \"pyspark.sql.connect.dataframe\"]\n    if (type(df).__module__ in __backend_agg_df_modules and type(df).__name__ == 'DataFrame') or isinstance(df, list):\n        __backend_agg_dfs.append(df)\n\ndisplay = __backend_agg_display_new\n\ndef __backend_agg_user_code_fn():\n    import base64\n    exec(base64.standard_b64decode(\"VG90YWxfU2FsZXNCeV9vcmRlciA9IChzYWxlc19kZi5qb2luKG1lbnVfZGYsJ3Byb2R1Y3RfaWQnKS5ncm91cEJ5KCdzb3VyY2Vfb3JkZXInKS5hZ2coeydwcmljZSc6J3N1bSd9KQogICAgICAgICAgICAgICAgICAgICAgICAgICAgICkKCmRpc3BsYXkoVG90YWxfU2FsZXNCeV9vcmRlcik=\").decode())\n\ntry:\n    # run user code\n    __backend_agg_user_code_fn()\n\n    #reset display function\n    display = __backend_agg_display_orig\n\n    if len(__backend_agg_dfs) > 0:\n        # create a temp view\n        if type(__backend_agg_dfs[0]).__module__ == \"databricks.koalas.frame\":\n            # koalas dataframe\n            __backend_agg_dfs[0].to_spark().createOrReplaceTempView(\"DatabricksView87f147d\")\n        elif type(__backend_agg_dfs[0]).__module__ == \"pandas.core.frame\" or isinstance(__backend_agg_dfs[0], list):\n            # pandas dataframe\n            spark.createDataFrame(__backend_agg_dfs[0]).createOrReplaceTempView(\"DatabricksView87f147d\")\n        else:\n            __backend_agg_dfs[0].createOrReplaceTempView(\"DatabricksView87f147d\")\n        #run backend agg\n        display(spark.sql(\"\"\"WITH q AS (select * from DatabricksView87f147d) SELECT `source_order`,SUM(`sum(price)`) `column_11fef88029` FROM q GROUP BY `source_order`\"\"\"))\n    else:\n        displayHTML(\"dataframe no longer exists. If you're using dataframe.display(), use display(dataframe) instead.\")\n\n\nfinally:\n    spark.sql(\"drop view if exists DatabricksView87f147d\")\n    display = __backend_agg_display_orig\n    del __backend_agg_display_new\n    del __backend_agg_display_orig\n    del __backend_agg_dfs\n    del __backend_agg_user_code_fn\n\n",
       "commandTitle": "Visualization 1",
       "commandType": "auto",
       "commandVersion": 0,
       "commentThread": [],
       "commentsVisible": false,
       "contentSha256Hex": null,
       "customPlotOptions": {
        "redashChart": [
         {
          "key": "type",
          "value": "CHART"
         },
         {
          "key": "options",
          "value": {
           "alignYAxesAtZero": true,
           "coefficient": 1,
           "columnConfigurationMap": {
            "x": {
             "column": "source_order",
             "id": "column_11fef88028"
            },
            "y": [
             {
              "column": "sum(price)",
              "id": "column_11fef88029",
              "transform": "SUM"
             }
            ]
           },
           "dateTimeFormat": "DD/MM/YYYY HH:mm",
           "direction": {
            "type": "counterclockwise"
           },
           "error_y": {
            "type": "data",
            "visible": true
           },
           "globalSeriesType": "pie",
           "legend": {
            "traceorder": "normal"
           },
           "missingValuesAsZero": true,
           "numberFormat": "0,0.[00000]",
           "percentFormat": "0[.]00%",
           "series": {
            "error_y": {
             "type": "data",
             "visible": true
            },
            "stacking": null
           },
           "seriesOptions": {
            "column_11fef88029": {
             "name": "sum(price)",
             "type": "pie",
             "yAxis": 0
            }
           },
           "showDataLabels": true,
           "sizemode": "diameter",
           "sortX": true,
           "sortY": true,
           "swappedAxes": false,
           "textFormat": "",
           "useAggregationsUi": true,
           "valuesOptions": {},
           "version": 2,
           "xAxis": {
            "labels": {
             "enabled": true
            },
            "type": "-"
           },
           "yAxis": [
            {
             "type": "-"
            },
            {
             "opposite": true,
             "type": "-"
            }
           ]
          }
         }
        ]
       },
       "datasetPreviewNameToCmdIdMap": {},
       "diffDeletes": [],
       "diffInserts": [],
       "displayType": "redashChart",
       "error": null,
       "errorDetails": null,
       "errorSummary": null,
       "errorTraceType": null,
       "finishTime": 0,
       "globalVars": {},
       "guid": "",
       "height": "auto",
       "hideCommandCode": false,
       "hideCommandResult": false,
       "iPythonMetadata": null,
       "inputWidgets": {},
       "isLockedInExamMode": false,
       "latestUser": "a user",
       "latestUserId": null,
       "listResultMetadata": null,
       "metadata": {},
       "nuid": "e2cfb4e7-11af-47c3-b460-cb640dca9903",
       "origId": 0,
       "parentHierarchy": [],
       "pivotAggregation": null,
       "pivotColumns": null,
       "position": 17.0,
       "resultDbfsErrorMessage": null,
       "resultDbfsStatus": "INLINED_IN_TREE",
       "results": null,
       "showCommandTitle": false,
       "startTime": 0,
       "state": "input",
       "streamStates": {},
       "subcommandOptions": {
        "queryPlan": {
         "groups": [
          {
           "column": "source_order",
           "type": "column"
          }
         ],
         "selects": [
          {
           "column": "source_order",
           "type": "column"
          },
          {
           "alias": "column_11fef88029",
           "args": [
            {
             "column": "sum(price)",
             "type": "column"
            }
           ],
           "function": "SUM",
           "type": "function"
          }
         ]
        }
       },
       "submitTime": 0,
       "subtype": "tableResultSubCmd.visualization",
       "tableResultIndex": 0,
       "useConsistentColors": false,
       "version": "CommandV1",
       "width": "auto",
       "workflows": [],
       "xColumns": null,
       "yColumns": null
      }
     },
     "output_type": "display_data"
    }
   ],
   "source": [
    "Total_SalesBy_order = (sales_df.join(menu_df,'product_id').groupBy('source_order').agg({'price':'sum'})\n",
    "                             )\n",
    "\n",
    "display(Total_SalesBy_order)"
   ]
  },
  {
   "cell_type": "code",
   "execution_count": 0,
   "metadata": {
    "application/vnd.databricks.v1+cell": {
     "cellMetadata": {},
     "inputWidgets": {},
     "nuid": "7dbf010a-210b-495c-bd4d-7fcdb529f86b",
     "showTitle": false,
     "title": ""
    }
   },
   "outputs": [],
   "source": []
  }
 ],
 "metadata": {
  "application/vnd.databricks.v1+notebook": {
   "dashboards": [
    {
     "elements": [
      {
       "dashboardResultIndex": null,
       "elementNUID": "088b26fe-fe49-4bfc-9537-b29208d305b6",
       "elementType": "command",
       "guid": "16e92c18-8e1e-41c1-9a2c-f6871f3fbe9e",
       "options": {
        "autoScaleImg": false,
        "scale": 0,
        "showTitle": true,
        "title": "Quaterly Sales",
        "titleAlign": "center"
       },
       "position": {
        "height": 6,
        "width": 12,
        "x": 0,
        "y": 18,
        "z": null
       },
       "resultIndex": null
      },
      {
       "dashboardResultIndex": null,
       "elementNUID": "a844016e-ad47-4142-a704-264e963c952c",
       "elementType": "command",
       "guid": "317f4533-75fb-43a9-aef8-257a64091c4b",
       "options": {
        "autoScaleImg": false,
        "scale": 0,
        "showTitle": true,
        "title": "Frequency Of Customer Visited",
        "titleAlign": "center"
       },
       "position": {
        "height": 6,
        "width": 24,
        "x": 0,
        "y": 24,
        "z": null
       },
       "resultIndex": null
      },
      {
       "dashboardResultIndex": null,
       "elementNUID": "ffdaae0d-d970-45ee-8327-91e23a78405a",
       "elementType": "command",
       "guid": "430ae39f-021e-485d-bb80-43cdc6fc0753",
       "options": {
        "autoScaleImg": false,
        "scale": 0,
        "showTitle": true,
        "title": "Top Order Items",
        "titleAlign": "center"
       },
       "position": {
        "height": 10,
        "width": 24,
        "x": 0,
        "y": 30,
        "z": null
       },
       "resultIndex": null
      },
      {
       "dashboardResultIndex": null,
       "elementNUID": "47fde154-d3ab-405b-943d-cc21c56c567c",
       "elementType": "command",
       "guid": "49ce990a-b1e9-4897-9f67-30897b6f4ac9",
       "options": {
        "autoScaleImg": false,
        "scale": 0,
        "showTitle": true,
        "title": "Total Amount Spent By Each Food Category",
        "titleAlign": "center"
       },
       "position": {
        "height": 7,
        "width": 12,
        "x": 12,
        "y": 5,
        "z": null
       },
       "resultIndex": null
      },
      {
       "dashboardResultIndex": null,
       "elementNUID": "0b6a49ff-ce85-4877-b5a3-fdff060fb2b9",
       "elementType": "command",
       "guid": "696ab311-0ba3-4ce2-b27a-174571723f22",
       "options": {
        "autoScaleImg": false,
        "scale": 0,
        "showTitle": true,
        "title": "Total Amount Spent By Each Customer",
        "titleAlign": "center"
       },
       "position": {
        "height": 7,
        "width": 12,
        "x": 0,
        "y": 5,
        "z": null
       },
       "resultIndex": null
      },
      {
       "dashboardResultIndex": null,
       "elementNUID": "a5617217-c3d6-4284-82bc-c57e37cea729",
       "elementType": "command",
       "guid": "95f9e037-f98b-4884-9db8-5159d3400812",
       "options": {
        "autoScaleImg": false,
        "scale": 0,
        "showTitle": true,
        "title": "Yearly Sales",
        "titleAlign": "center"
       },
       "position": {
        "height": 6,
        "width": 12,
        "x": 12,
        "y": 12,
        "z": null
       },
       "resultIndex": null
      },
      {
       "dashboardResultIndex": null,
       "elementNUID": "2a1cc182-8ed9-4ef6-bbcd-c4cb8b8f4337",
       "elementType": "command",
       "guid": "981d4005-d547-4187-a60d-fbb3d5fa4eaf",
       "options": {
        "autoScaleImg": false,
        "scale": 0,
        "showTitle": true,
        "title": "Top Product",
        "titleAlign": "center"
       },
       "position": {
        "height": 5,
        "width": 24,
        "x": 0,
        "y": 0,
        "z": null
       },
       "resultIndex": null
      },
      {
       "dashboardResultIndex": null,
       "elementNUID": "e2cfb4e7-11af-47c3-b460-cb640dca9903",
       "elementType": "command",
       "guid": "b701ef10-93ad-48be-bbc0-0989764957d8",
       "options": {
        "autoScaleImg": false,
        "scale": 0,
        "showTitle": true,
        "title": "Total Sales By Source Order",
        "titleAlign": "center"
       },
       "position": {
        "height": 6,
        "width": 12,
        "x": 12,
        "y": 18,
        "z": null
       },
       "resultIndex": null
      },
      {
       "dashboardResultIndex": null,
       "elementNUID": "79794b83-c4fe-490e-940f-743cb4d6eb2e",
       "elementType": "command",
       "guid": "ed7b0140-8faa-47b0-943d-a080764b292f",
       "options": {
        "autoScaleImg": false,
        "scale": 0,
        "showTitle": true,
        "title": "Monthly Sales",
        "titleAlign": "center"
       },
       "position": {
        "height": 6,
        "width": 12,
        "x": 0,
        "y": 12,
        "z": null
       },
       "resultIndex": null
      }
     ],
     "globalVars": {},
     "guid": "",
     "layoutOption": {
      "grid": true,
      "stack": false
     },
     "nuid": "bef42056-24c9-4376-bdbd-f64f2949e38e",
     "origId": 3377793867720208,
     "title": "Sales Analysis Dashboard",
     "version": "DashboardViewV1",
     "width": 1024
    }
   ],
   "language": "python",
   "notebookMetadata": {
    "pythonIndentUnit": 4
   },
   "notebookName": "PySpark Project Sales Analysis",
   "widgets": {}
  }
 },
 "nbformat": 4,
 "nbformat_minor": 0
}
